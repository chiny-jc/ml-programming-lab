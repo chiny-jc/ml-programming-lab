{
 "cells": [
  {
   "cell_type": "markdown",
   "metadata": {},
   "source": [
    "### Joshua Campos - Nr. 304738"
   ]
  },
  {
   "cell_type": "markdown",
   "metadata": {},
   "source": [
    "# Exercise Sheet 1"
   ]
  },
  {
   "cell_type": "markdown",
   "metadata": {},
   "source": [
    "## 1.1 Python and Numpy (8 Points)"
   ]
  },
  {
   "cell_type": "markdown",
   "metadata": {},
   "source": [
    "### Grading Program"
   ]
  },
  {
   "cell_type": "code",
   "execution_count": 1,
   "metadata": {},
   "outputs": [],
   "source": [
    "#IMPORT ALL REQUIRED LIBRARIES\n",
    "\n",
    "import pandas as pd\n",
    "import numpy as np\n",
    "import matplotlib.pyplot as plt"
   ]
  },
  {
   "cell_type": "code",
   "execution_count": 2,
   "metadata": {},
   "outputs": [],
   "source": [
    "#USE PANDAS BUILT-IN FUNCTION TO READ THE CSV\n",
    "\n",
    "grades = pd.read_csv('Grades.csv')"
   ]
  },
  {
   "cell_type": "code",
   "execution_count": 3,
   "metadata": {},
   "outputs": [],
   "source": [
    "#USE PANDAS DATAFRAME BUILT-IN FUNCTIONS TO CALCULATE THE SUM, AVERAGE AND STANDARD DEVIATION\n",
    "\n",
    "grades['Sum'] = grades[['English','Maths','Science','German','Sports']].sum(axis=1)\n",
    "grades['Average'] = grades[['English','Maths','Science','German','Sports']].mean(axis=1)\n",
    "grades['Std. Dev.'] = grades[['English','Maths','Science','German','Sports']].std(axis=1)"
   ]
  },
  {
   "cell_type": "code",
   "execution_count": 4,
   "metadata": {},
   "outputs": [
    {
     "data": {
      "text/html": [
       "<div>\n",
       "<style scoped>\n",
       "    .dataframe tbody tr th:only-of-type {\n",
       "        vertical-align: middle;\n",
       "    }\n",
       "\n",
       "    .dataframe tbody tr th {\n",
       "        vertical-align: top;\n",
       "    }\n",
       "\n",
       "    .dataframe thead th {\n",
       "        text-align: right;\n",
       "    }\n",
       "</style>\n",
       "<table border=\"1\" class=\"dataframe\">\n",
       "  <thead>\n",
       "    <tr style=\"text-align: right;\">\n",
       "      <th></th>\n",
       "      <th>First Name</th>\n",
       "      <th>Last Name</th>\n",
       "      <th>English</th>\n",
       "      <th>Maths</th>\n",
       "      <th>Science</th>\n",
       "      <th>German</th>\n",
       "      <th>Sports</th>\n",
       "      <th>Final Grade</th>\n",
       "      <th>Sum</th>\n",
       "      <th>Average</th>\n",
       "      <th>Std. Dev.</th>\n",
       "    </tr>\n",
       "  </thead>\n",
       "  <tbody>\n",
       "    <tr>\n",
       "      <th>0</th>\n",
       "      <td>Robyn</td>\n",
       "      <td>Hobgood</td>\n",
       "      <td>60.95</td>\n",
       "      <td>24.77</td>\n",
       "      <td>20.60</td>\n",
       "      <td>69.32</td>\n",
       "      <td>8.36</td>\n",
       "      <td>184.00</td>\n",
       "      <td>184.00</td>\n",
       "      <td>36.800</td>\n",
       "      <td>26.724368</td>\n",
       "    </tr>\n",
       "    <tr>\n",
       "      <th>1</th>\n",
       "      <td>Eddy</td>\n",
       "      <td>Swearngin</td>\n",
       "      <td>100.00</td>\n",
       "      <td>12.99</td>\n",
       "      <td>100.00</td>\n",
       "      <td>52.24</td>\n",
       "      <td>100.00</td>\n",
       "      <td>365.23</td>\n",
       "      <td>365.23</td>\n",
       "      <td>73.046</td>\n",
       "      <td>39.430848</td>\n",
       "    </tr>\n",
       "    <tr>\n",
       "      <th>2</th>\n",
       "      <td>Leoma</td>\n",
       "      <td>Bridgman</td>\n",
       "      <td>83.37</td>\n",
       "      <td>100.00</td>\n",
       "      <td>78.69</td>\n",
       "      <td>100.00</td>\n",
       "      <td>19.50</td>\n",
       "      <td>381.56</td>\n",
       "      <td>381.56</td>\n",
       "      <td>76.312</td>\n",
       "      <td>33.186278</td>\n",
       "    </tr>\n",
       "    <tr>\n",
       "      <th>3</th>\n",
       "      <td>Arnetta</td>\n",
       "      <td>Peart</td>\n",
       "      <td>87.75</td>\n",
       "      <td>100.00</td>\n",
       "      <td>86.93</td>\n",
       "      <td>87.90</td>\n",
       "      <td>41.73</td>\n",
       "      <td>404.31</td>\n",
       "      <td>404.31</td>\n",
       "      <td>80.862</td>\n",
       "      <td>22.535389</td>\n",
       "    </tr>\n",
       "    <tr>\n",
       "      <th>4</th>\n",
       "      <td>Maryland</td>\n",
       "      <td>Colby</td>\n",
       "      <td>100.00</td>\n",
       "      <td>100.00</td>\n",
       "      <td>100.00</td>\n",
       "      <td>18.87</td>\n",
       "      <td>88.72</td>\n",
       "      <td>407.59</td>\n",
       "      <td>407.59</td>\n",
       "      <td>81.518</td>\n",
       "      <td>35.360266</td>\n",
       "    </tr>\n",
       "  </tbody>\n",
       "</table>\n",
       "</div>"
      ],
      "text/plain": [
       "  First Name  Last Name  English   Maths  Science  German  Sports  \\\n",
       "0      Robyn    Hobgood    60.95   24.77    20.60   69.32    8.36   \n",
       "1       Eddy  Swearngin   100.00   12.99   100.00   52.24  100.00   \n",
       "2      Leoma   Bridgman    83.37  100.00    78.69  100.00   19.50   \n",
       "3    Arnetta      Peart    87.75  100.00    86.93   87.90   41.73   \n",
       "4   Maryland      Colby   100.00  100.00   100.00   18.87   88.72   \n",
       "\n",
       "   Final Grade     Sum  Average  Std. Dev.  \n",
       "0       184.00  184.00   36.800  26.724368  \n",
       "1       365.23  365.23   73.046  39.430848  \n",
       "2       381.56  381.56   76.312  33.186278  \n",
       "3       404.31  404.31   80.862  22.535389  \n",
       "4       407.59  407.59   81.518  35.360266  "
      ]
     },
     "execution_count": 4,
     "metadata": {},
     "output_type": "execute_result"
    }
   ],
   "source": [
    "#LOOK AT THE FIRST 5 ROWS OF THE DATAFRAME TO CHECK THE CALCULATIONS DONE ABOVE\n",
    "\n",
    "grades.head()"
   ]
  },
  {
   "cell_type": "code",
   "execution_count": 5,
   "metadata": {},
   "outputs": [
    {
     "data": {
      "text/plain": [
       "Text(0, 0.5, 'Average Grade')"
      ]
     },
     "execution_count": 5,
     "metadata": {},
     "output_type": "execute_result"
    },
    {
     "data": {
      "image/png": "[encoded data removed]",
      "text/plain": [
       "<Figure size 432x288 with 1 Axes>"
      ]
     },
     "metadata": {
      "needs_background": "light"
     },
     "output_type": "display_data"
    }
   ],
   "source": [
    "#USE MATPLOTLIB SCATTER FUNCTION TO SEE THE AVERAGE OF EACH STUDENT\n",
    "\n",
    "plt.scatter(grades.index, grades['Average'])\n",
    "plt.title('Average Student Grades')\n",
    "plt.xlabel('Students')\n",
    "plt.ylabel('Average Grade')"
   ]
  },
  {
   "cell_type": "code",
   "execution_count": 6,
   "metadata": {},
   "outputs": [],
   "source": [
    "#CREATE A FUNCTION THAT ROUNDS THE AVERAGE AND THEN CHECKS WHAT GRADE SHOULD BE ASSIGNED\n",
    "\n",
    "def assign_grade(average):\n",
    "    rounded = round(average)\n",
    "    if 96 <= rounded <= 100:\n",
    "        return 'A+'\n",
    "    elif 90 <= rounded <= 95:\n",
    "        return 'A'\n",
    "    elif 86 <= rounded <= 89:\n",
    "        return 'A-'\n",
    "    elif 80 <= rounded <= 85:\n",
    "        return 'B+'\n",
    "    elif 76 <= rounded <= 79:\n",
    "        return 'B'\n",
    "    elif 70 <= rounded <= 75:\n",
    "        return 'B-'\n",
    "    elif 66 <= rounded <= 69:\n",
    "        return 'C+'\n",
    "    elif 60 <= rounded <= 65:\n",
    "        return 'C'\n",
    "    elif 56 <= rounded <= 59:\n",
    "        return 'D'\n",
    "    elif 0 <= rounded <= 55:\n",
    "        return 'F'"
   ]
  },
  {
   "cell_type": "code",
   "execution_count": 7,
   "metadata": {},
   "outputs": [],
   "source": [
    "#APPLY THE FUNCTION ABOVE TO THE AVERAGE COLUMN OF THE DATAFRAME TO CREATE A NEW COLUMN CALLED 'GRADE'\n",
    "\n",
    "grades['Grade'] = grades['Average'].apply(assign_grade)"
   ]
  },
  {
   "cell_type": "code",
   "execution_count": 8,
   "metadata": {},
   "outputs": [],
   "source": [
    "#USE PANDAS BUILT-IN FUNCTION TO GROUP BY THE GRADE AND COUNT THE NUMBER OF INSTANCES FOR EACH GRADE\n",
    "\n",
    "grouped_grades = grades.groupby(['Grade']).count()"
   ]
  },
  {
   "cell_type": "code",
   "execution_count": 9,
   "metadata": {},
   "outputs": [
    {
     "data": {
      "text/plain": [
       "Text(0, 0.5, 'Number of Students')"
      ]
     },
     "execution_count": 9,
     "metadata": {},
     "output_type": "execute_result"
    },
    {
     "data": {
      "image/png": "[encoded data removed]",
      "text/plain": [
       "<Figure size 432x288 with 1 Axes>"
      ]
     },
     "metadata": {
      "needs_background": "light"
     },
     "output_type": "display_data"
    }
   ],
   "source": [
    "#USE MATPLOTLIB TO PLOT THE NUMBER OF STUDENTS WHO GOT EACH GRADE\n",
    "\n",
    "plt.bar(grouped_grades.index,grouped_grades['Sum'])\n",
    "plt.title('Students Grouped by Grade')\n",
    "plt.xlabel('Grades')\n",
    "plt.ylabel('Number of Students')"
   ]
  },
  {
   "cell_type": "markdown",
   "metadata": {},
   "source": [
    "### Matrix Multiplication"
   ]
  },
  {
   "cell_type": "code",
   "execution_count": 10,
   "metadata": {},
   "outputs": [],
   "source": [
    "#INITIALIZE MATRIX OF SIZE (100,20) WITH RANDOM NUMBERS FROM 0 TO 100\n",
    "#INITIALIZE A VECTOR OF SIZE (20,) WITH MU 5 AND SIGMA 0.01\n",
    "#INITIALIZE THE OUTPUT VECTOR WITH SIZE (20,) AND FILLED WITH ZEROS\n",
    "\n",
    "matrix_a = np.random.randint(low=0,high=100,size=(100,20))\n",
    "vector_v = np.random.normal(5,0.01,20)\n",
    "vector_c = np.zeros(20)"
   ]
  },
  {
   "cell_type": "code",
   "execution_count": 11,
   "metadata": {
    "scrolled": false
   },
   "outputs": [
    {
     "name": "stdout",
     "output_type": "stream",
     "text": [
      "Vector C:\n",
      "[25515.39906207 26869.63163631 24107.97667171 24822.57047081\n",
      " 22182.34421552 24889.94364038 26296.46805309 25425.77279836\n",
      " 26794.92368404 23379.75480956 26048.81620837 24127.86206538\n",
      " 25383.06368422 22421.22069273 24379.84233965 23774.46913892\n",
      " 24847.48634279 25013.86591313 23646.22793606 25673.24944362]\n"
     ]
    }
   ],
   "source": [
    "#ITERATE EACH ROW OF THE MATRIX AND THEN ITERATE EACH COLUMN OF THE ROW\n",
    "#MULTIPLY EACH VALUE OF THE ROW BY EACH VALUE OF THE VECTOR V\n",
    "#SUM THE MULTIPLICATION RESULT TO EACH CORRESPONDING COLUMN OF VECTOR C \n",
    "\n",
    "for row in range(matrix_a.shape[0]):\n",
    "    for column in range(matrix_a.shape[1]):\n",
    "        multiplication = matrix_a[row][column] * vector_v[column]\n",
    "        vector_c[column]+=multiplication\n",
    "        \n",
    "print('Vector C:\\n{}'.format(vector_c))"
   ]
  },
  {
   "cell_type": "code",
   "execution_count": 12,
   "metadata": {},
   "outputs": [
    {
     "name": "stdout",
     "output_type": "stream",
     "text": [
      "Mean: 24780.04\n",
      "Standard Deviation: 1267.57\n"
     ]
    }
   ],
   "source": [
    "#USE NUMPY BUILT-IN FUNCTIONS TO CALCULATE THE MEAN AND STANDARD DEVIATION OF VECTOR C\n",
    "\n",
    "vector_c_mean = vector_c.mean()\n",
    "vector_c_std = vector_c.std()\n",
    "\n",
    "print('Mean: {}\\nStandard Deviation: {}'.format(round(vector_c_mean,2),round(vector_c_std,2)))"
   ]
  },
  {
   "cell_type": "code",
   "execution_count": 13,
   "metadata": {},
   "outputs": [
    {
     "data": {
      "text/plain": [
       "(array([2., 3., 6., 5., 4.]),\n",
       " array([22182.34421552, 23119.80169967, 24057.25918383, 24994.71666799,\n",
       "        25932.17415215, 26869.63163631]),\n",
       " <a list of 5 Patch objects>)"
      ]
     },
     "execution_count": 13,
     "metadata": {},
     "output_type": "execute_result"
    },
    {
     "data": {
      "image/png": "[encoded data removed]",
      "text/plain": [
       "<Figure size 432x288 with 1 Axes>"
      ]
     },
     "metadata": {
      "needs_background": "light"
     },
     "output_type": "display_data"
    }
   ],
   "source": [
    "#USE MATPLOTLIB HISTOGRAM FUNCTION TO PLOT THE VECTOR C USING 5 BINS\n",
    "\n",
    "plt.hist(vector_c, bins=5, rwidth=.8)"
   ]
  },
  {
   "cell_type": "markdown",
   "metadata": {},
   "source": [
    "## 1.2 Linear Regression Through Exact Form (12 Points)"
   ]
  },
  {
   "cell_type": "markdown",
   "metadata": {},
   "source": [
    "### 1.2.1 OLS Using An Artificial Dataset (6 Points)"
   ]
  },
  {
   "cell_type": "code",
   "execution_count": 14,
   "metadata": {},
   "outputs": [],
   "source": [
    "#INITIALIZE A MATRIX OF SIZE (100,2) WITH MU 2 AND SIGMA 1\n",
    "\n",
    "matrix_a = np.random.normal(2,1,size=(100,2))"
   ]
  },
  {
   "cell_type": "code",
   "execution_count": 15,
   "metadata": {},
   "outputs": [
    {
     "name": "stdout",
     "output_type": "stream",
     "text": [
      "Coefficients:\n",
      "b_0 = 2.3031102876044023\n",
      "b_1 = -0.12108364844356326\n"
     ]
    }
   ],
   "source": [
    "#CREATE THE LEARN-SIMPLE-LINREG FUNCTION TO CALCULATE THE COEFFICIENTS (B0 AND B1)\n",
    "#DEFINE THE FIRST COLUMN AS X AND SECOND COLUMN AS Y\n",
    "#RUN THE LEARNING FUNCTION TO CALCULATE THE COEFFICIENTS\n",
    "\n",
    "def learn_simple_linreg(x,y):\n",
    "    x_mean = x.mean()\n",
    "    y_mean = y.mean()\n",
    "    \n",
    "    b_1 = np.sum((x-x_mean)*(y-y_mean))/np.sum((x-x_mean)**2)\n",
    "    b_0 = y_mean-b_1*x_mean\n",
    "    \n",
    "    return(b_0, b_1)\n",
    "\n",
    "x = matrix_a[:,:1]\n",
    "y = matrix_a[:,1:]\n",
    "\n",
    "b_0, b_1 = learn_simple_linreg(x,y)\n",
    "\n",
    "print('Coefficients:\\nb_0 = {}\\nb_1 = {}'.format(b_0,b_1))"
   ]
  },
  {
   "cell_type": "code",
   "execution_count": 16,
   "metadata": {},
   "outputs": [],
   "source": [
    "#CREATE THE PREDICT-SIMPLE-LINREG FUNCTION USING THE LINEAR REGRESSION FORMULA\n",
    "#RUN THE PREDICTION FUNCTION TO PREDICT THE Y VALUES FOR EACH X\n",
    "\n",
    "def predict_simple_linreg(x):\n",
    "    return b_0+b_1*x\n",
    "\n",
    "y_predicted = predict_simple_linreg(x)"
   ]
  },
  {
   "cell_type": "code",
   "execution_count": 17,
   "metadata": {},
   "outputs": [
    {
     "data": {
      "text/plain": [
       "[<matplotlib.lines.Line2D at 0x1dd57d802b0>]"
      ]
     },
     "execution_count": 17,
     "metadata": {},
     "output_type": "execute_result"
    },
    {
     "data": {
      "image/png": "[encoded data removed]",
      "text/plain": [
       "<Figure size 432x288 with 1 Axes>"
      ]
     },
     "metadata": {
      "needs_background": "light"
     },
     "output_type": "display_data"
    }
   ],
   "source": [
    "#USE MATPLOTLIB SCATTER FUNCTION TO PLOT ALL THE DATA POINTS\n",
    "#USE MATPLOTLIB PLOT TO SHOW THE REGRESSION LINE\n",
    "\n",
    "plt.scatter(x,y,color='c')\n",
    "plt.plot(x,y_predicted, color='red')"
   ]
  },
  {
   "cell_type": "code",
   "execution_count": 18,
   "metadata": {
    "scrolled": false
   },
   "outputs": [
    {
     "data": {
      "image/png": "[encoded data removed]",
      "text/plain": [
       "<Figure size 432x288 with 1 Axes>"
      ]
     },
     "metadata": {
      "needs_background": "light"
     },
     "output_type": "display_data"
    },
    {
     "name": "stdout",
     "output_type": "stream",
     "text": [
      "Predicted Standard Deviation: 0.12477546476126081\n",
      "Predicted With Intercept 0: 0.12477546476126077\n"
     ]
    }
   ],
   "source": [
    "#PREDICT AGAIN USING ZERO FOR B0\n",
    "#PLOT THE GRAPH AGAIN WITH THE NEW REGRESSION LINE\n",
    "#PRINT THE STANDARD DEVIATION FOR COMPARISON\n",
    "\n",
    "y_predicted_0_intercept = 0+b_1*x\n",
    "\n",
    "plt.scatter(x,y,color='c')\n",
    "plt.plot(x,y_predicted_0_intercept, color='red')\n",
    "plt.show()\n",
    "\n",
    "print('Predicted Standard Deviation: {}'.format(y_predicted.std()))\n",
    "print('Predicted With Intercept 0: {}'.format(y_predicted_0_intercept.std()))"
   ]
  },
  {
   "cell_type": "markdown",
   "metadata": {},
   "source": [
    "**Comment:** There are no changes on the standard deviation, although the intercept is now at 0. This might be caused because the slope of the regression line still follows the slope of the data, so the standard deviation isn't affected. "
   ]
  },
  {
   "cell_type": "code",
   "execution_count": 19,
   "metadata": {},
   "outputs": [
    {
     "data": {
      "image/png": "[encoded data removed]",
      "text/plain": [
       "<Figure size 432x288 with 1 Axes>"
      ]
     },
     "metadata": {
      "needs_background": "light"
     },
     "output_type": "display_data"
    },
    {
     "name": "stdout",
     "output_type": "stream",
     "text": [
      "Predicted Standard Deviation: 0.12477546476126081\n",
      "Predicted With Slope 0: 4.440892098500626e-16\n"
     ]
    }
   ],
   "source": [
    "#PREDICT AGAIN USING ZERO FOR B1\n",
    "#PLOT THE GRAPH AGAIN WITH THE NEW REGRESSION LINE\n",
    "#PRINT THE STANDARD DEVIATION FOR COMPARISON\n",
    "\n",
    "y_predicted_0_slope = b_0+0*x\n",
    "\n",
    "plt.scatter(x,y,color='c')\n",
    "plt.plot(x,y_predicted_0_slope, color='red')\n",
    "plt.show()\n",
    "\n",
    "print('Predicted Standard Deviation: {}'.format(y_predicted.std()))\n",
    "print('Predicted With Slope 0: {}'.format(y_predicted_0_slope.std()))"
   ]
  },
  {
   "cell_type": "markdown",
   "metadata": {},
   "source": [
    "**Comment:** The standard deviation decreased, which means that now that the regression line is completely flat, the values that create this line are very close to the data average. "
   ]
  },
  {
   "cell_type": "code",
   "execution_count": 20,
   "metadata": {},
   "outputs": [
    {
     "name": "stdout",
     "output_type": "stream",
     "text": [
      "Coefficients:\n",
      "b_0 = 2.303110287604404\n",
      "b_1 = -0.12108364844356369\n"
     ]
    }
   ],
   "source": [
    "#RESHAPE X AND Y TO A 1D ARRAY\n",
    "#DEFINE 'A' AS THE COEFFICIENT MATRIX FOR THE LSTSQ() FUNCTION USING THE X VALUES\n",
    "#USE THE LSTSQ() FUNCTION TO CALCULATE THE COEFFICIENTS\n",
    "\n",
    "x_reshaped = x.reshape(x.shape[0],)\n",
    "y_reshaped = y.reshape(y.shape[0],)\n",
    "\n",
    "A = np.vstack([x_reshaped, np.ones(len(x))]).transpose()\n",
    "b_1_l2, b_0_l2 = np.linalg.lstsq(A, y_reshaped, rcond=None)[0]\n",
    "\n",
    "print('Coefficients:\\nb_0 = {}\\nb_1 = {}'.format(b_0_l2,b_1_l2))"
   ]
  },
  {
   "cell_type": "markdown",
   "metadata": {},
   "source": [
    "**Explanation:** The is no difference between the B0 and B1 values that were calculated before and the ones calculated by the lstsq() function. This means that the implementation for calculating the coefficients was done correctly to render the best results, just like the lstsq() function would."
   ]
  },
  {
   "cell_type": "markdown",
   "metadata": {},
   "source": [
    "### 1.2.2 OLS Using A Real Dataset (6 Points)"
   ]
  },
  {
   "cell_type": "code",
   "execution_count": 21,
   "metadata": {},
   "outputs": [],
   "source": [
    "#USE PANDAS BUILT-IN FUNCTION TO RED THE DATA FILE\n",
    "#USE A CUSTOM SEPARATOR TO GET THE COLUMNS FROM THE FILE CORRECTLY\n",
    "#NAME THE COLUMNS ACCORDINGLY\n",
    "#INITIALIZE AN INDEPENDENT VARIABLE FOR DISPLACEMENT AND DEPENDENT VARIABLE FOR MPG\n",
    "\n",
    "auto_mpg = pd.read_csv('auto-mpg.data',sep='\\s+',names=['mpg','cylinders','displacement','horsepower','weight','acceleration',\\\n",
    "                                              'model year','origin','car name'])\n",
    "\n",
    "x1 = auto_mpg['displacement']\n",
    "y = auto_mpg['mpg']"
   ]
  },
  {
   "cell_type": "code",
   "execution_count": 22,
   "metadata": {},
   "outputs": [
    {
     "name": "stdout",
     "output_type": "stream",
     "text": [
      "Coefficients:\n",
      "b_0 = 35.1747501542932\n",
      "b_1 = -0.06028240546881722\n"
     ]
    }
   ],
   "source": [
    "#RUN THE LEARN ALGORITHM TO CALCULATE THE COEFFICIENTS\n",
    "\n",
    "b_0, b_1 = learn_simple_linreg(x1,y)\n",
    "\n",
    "print('Coefficients:\\nb_0 = {}\\nb_1 = {}'.format(b_0,b_1))"
   ]
  },
  {
   "cell_type": "code",
   "execution_count": 23,
   "metadata": {},
   "outputs": [],
   "source": [
    "#PREDICT THE Y VALUES USING DISPLACEMENT\n",
    "\n",
    "y_predicted_using_displacement = predict_simple_linreg(x1)"
   ]
  },
  {
   "cell_type": "code",
   "execution_count": 24,
   "metadata": {},
   "outputs": [
    {
     "data": {
      "text/plain": [
       "Text(0, 0.5, 'MPG')"
      ]
     },
     "execution_count": 24,
     "metadata": {},
     "output_type": "execute_result"
    },
    {
     "data": {
      "image/png": "[encoded data removed]",
      "text/plain": [
       "<Figure size 432x288 with 1 Axes>"
      ]
     },
     "metadata": {
      "needs_background": "light"
     },
     "output_type": "display_data"
    }
   ],
   "source": [
    "#USE MATPLOTLIB SCATTER FOR THE DATA POINTS AND PLOT FOR THE REGRESSION LINE\n",
    "\n",
    "plt.scatter(x1,y,color='c')\n",
    "plt.plot(x1,y_predicted_using_displacement,color='r')\n",
    "plt.xlabel('Displacement')\n",
    "plt.ylabel('MPG')"
   ]
  },
  {
   "cell_type": "markdown",
   "metadata": {},
   "source": [
    "**Comment:** As we can see on the graph, the relationship between Displacement and MPG is that the higher the Displacement, the lower the MPG. "
   ]
  },
  {
   "cell_type": "code",
   "execution_count": 25,
   "metadata": {},
   "outputs": [],
   "source": [
    "#CREATE A NEW DATAFRAME USING MPG AND HORSEPOWER, AND REMOVING ALL MISSING VALUES IN HORSEPOWER\n",
    "#DEFINE HORSEPOWER AS X AND MPG AS Y\n",
    "\n",
    "auto_mpg_no_missing_horsepower = auto_mpg[['mpg','horsepower']][auto_mpg['horsepower']!='?']\n",
    "\n",
    "x2 = pd.to_numeric(auto_mpg_no_missing_horsepower['horsepower'])\n",
    "y2 = auto_mpg_no_missing_horsepower['mpg']"
   ]
  },
  {
   "cell_type": "code",
   "execution_count": 26,
   "metadata": {},
   "outputs": [
    {
     "name": "stdout",
     "output_type": "stream",
     "text": [
      "Coefficients:\n",
      "b_0 = 39.93586102117047\n",
      "b_1 = -0.15784473335365362\n"
     ]
    }
   ],
   "source": [
    "#RUN THE LEARN ALGORITHM TO CALCULATE THE NEW COEFFICIENTS\n",
    "\n",
    "b_0, b_1 = learn_simple_linreg(x2,y2)\n",
    "\n",
    "print('Coefficients:\\nb_0 = {}\\nb_1 = {}'.format(b_0,b_1))"
   ]
  },
  {
   "cell_type": "code",
   "execution_count": 27,
   "metadata": {},
   "outputs": [],
   "source": [
    "#PREDICT THE Y VALUES USING HORSEPOWER\n",
    "\n",
    "y_predicted_using_horsepower = predict_simple_linreg(x2)"
   ]
  },
  {
   "cell_type": "code",
   "execution_count": 28,
   "metadata": {},
   "outputs": [
    {
     "data": {
      "text/plain": [
       "Text(0, 0.5, 'MPG')"
      ]
     },
     "execution_count": 28,
     "metadata": {},
     "output_type": "execute_result"
    },
    {
     "data": {
      "image/png": "[encoded data removed]",
      "text/plain": [
       "<Figure size 432x288 with 1 Axes>"
      ]
     },
     "metadata": {
      "needs_background": "light"
     },
     "output_type": "display_data"
    }
   ],
   "source": [
    "#USE MATPLOTLIB SCATTER FOR THE DATAPOINTS AND PLOT FOR THE REGRESSION LINE\n",
    "\n",
    "plt.scatter(x2,y2,color='c')\n",
    "plt.plot(x2,y_predicted_using_horsepower,color='r')\n",
    "plt.xlabel('Horsepower')\n",
    "plt.ylabel('MPG')"
   ]
  },
  {
   "cell_type": "markdown",
   "metadata": {},
   "source": [
    "**Comment:** As we can see on the graph, similarly with Displacement, the relationship between Horsepower and MPG is that the higher the Horsepower, the lower the MPG. "
   ]
  },
  {
   "cell_type": "code",
   "execution_count": 29,
   "metadata": {},
   "outputs": [
    {
     "name": "stdout",
     "output_type": "stream",
     "text": [
      "Coefficients:\n",
      "b_0 = 46.31736442026565\n",
      "b_1 = -0.007676610063926469\n"
     ]
    }
   ],
   "source": [
    "#DEFINE A NEW INDEPENDENT VARIABLE USING THE COLUMN WEIGHT\n",
    "#RUN THE LEARN ALGORITHM TO CALCULATE THE NEW COEFFICIENTS\n",
    "#PREDICT THE Y VALUES USING WEIGHT\n",
    "\n",
    "x3 = auto_mpg['weight']\n",
    "\n",
    "b_0, b_1 = learn_simple_linreg(x3,y)\n",
    "\n",
    "print('Coefficients:\\nb_0 = {}\\nb_1 = {}'.format(b_0,b_1))\n",
    "\n",
    "y_predicted_using_weight = predict_simple_linreg(x3)"
   ]
  },
  {
   "cell_type": "code",
   "execution_count": 30,
   "metadata": {},
   "outputs": [
    {
     "data": {
      "text/plain": [
       "Text(0, 0.5, 'MPG')"
      ]
     },
     "execution_count": 30,
     "metadata": {},
     "output_type": "execute_result"
    },
    {
     "data": {
      "image/png": "[encoded data removed]",
      "text/plain": [
       "<Figure size 432x288 with 1 Axes>"
      ]
     },
     "metadata": {
      "needs_background": "light"
     },
     "output_type": "display_data"
    }
   ],
   "source": [
    "#USE MATPLOTLIB SCATTER FOR THE DATAPOINTS AND PLOT FOR THE REGRESSION LINE\n",
    "\n",
    "plt.scatter(x3,y,color='c')\n",
    "plt.plot(x3,y_predicted_using_weight,color='r')\n",
    "plt.xlabel('Weight')\n",
    "plt.ylabel('MPG')"
   ]
  },
  {
   "cell_type": "markdown",
   "metadata": {},
   "source": [
    "**Comment:** As we can see on the graph, similarly with Displacement and Horsepower, the relationship between Weight and MPG is that the higher the Weight, the lower the MPG. "
   ]
  },
  {
   "cell_type": "code",
   "execution_count": 31,
   "metadata": {},
   "outputs": [
    {
     "name": "stdout",
     "output_type": "stream",
     "text": [
      "Coefficients:\n",
      "b_0 = 4.969793004253937\n",
      "b_1 = 1.1912045293502271\n"
     ]
    }
   ],
   "source": [
    "#DEFINE A NEW INDEPENDENT VARIABLE USING THE COLUMN ACCELERATION\n",
    "#RUN THE LEARN ALGORITHM TO CALCULATE THE NEW COEFFICIENTS\n",
    "#PREDICT THE Y VALUES USING ACCELERATION\n",
    "\n",
    "x4 = auto_mpg['acceleration']\n",
    "\n",
    "b_0, b_1 = learn_simple_linreg(x4,y)\n",
    "\n",
    "print('Coefficients:\\nb_0 = {}\\nb_1 = {}'.format(b_0,b_1))\n",
    "\n",
    "y_predicted_using_acceleration = predict_simple_linreg(x4)"
   ]
  },
  {
   "cell_type": "code",
   "execution_count": 32,
   "metadata": {},
   "outputs": [
    {
     "data": {
      "text/plain": [
       "Text(0, 0.5, 'MPG')"
      ]
     },
     "execution_count": 32,
     "metadata": {},
     "output_type": "execute_result"
    },
    {
     "data": {
      "image/png": "[encoded data removed]",
      "text/plain": [
       "<Figure size 432x288 with 1 Axes>"
      ]
     },
     "metadata": {
      "needs_background": "light"
     },
     "output_type": "display_data"
    }
   ],
   "source": [
    "#USE MATPLOTLIB SCATTER FOR THE DATAPOINTS AND PLOT FOR THE REGRESSION LINE\n",
    "\n",
    "plt.scatter(x4,y,color='c')\n",
    "plt.plot(x4,y_predicted_using_acceleration,color='r')\n",
    "plt.xlabel('Acceleration')\n",
    "plt.ylabel('MPG')"
   ]
  },
  {
   "cell_type": "markdown",
   "metadata": {},
   "source": [
    "**Comment:** As we can see on the graph, unlike with Displacement, Horsepower and Weight, the relationship between Acceleration and MPG is that the higher the Acceleration, the higher the MPG as well. "
   ]
  },
  {
   "cell_type": "code",
   "execution_count": 33,
   "metadata": {},
   "outputs": [],
   "source": [
    "#IMPORT THE SCIKIT LEARN LIBRARY FOR THE LINEAR REGRESSION\n",
    "\n",
    "from sklearn.linear_model import LinearRegression"
   ]
  },
  {
   "cell_type": "code",
   "execution_count": 34,
   "metadata": {},
   "outputs": [],
   "source": [
    "#INITIALIZE THE LINEAR REGRESSION MODEL\n",
    "#RESHAPE THE X AND Y ARRAYS TO 2D FOR THE FIT FUNCTION\n",
    "#RUN THE FIT FUNCTION ON THE DATA\n",
    "#PREDICT THE Y VALUES USING DISPLACEMENT AGAIN, BUT THIS TIME USING THE SCIKIT LIBRARY\n",
    "\n",
    "model = LinearRegression()\n",
    "\n",
    "x1_2d_array = np.array(x1).reshape([x1.size,1])\n",
    "y_2d_array = np.array(y).reshape([y.size,1])\n",
    "\n",
    "model.fit(x1_2d_array,y_2d_array)\n",
    "\n",
    "y_predicted_using_scikit = model.predict(x1_2d_array)"
   ]
  },
  {
   "cell_type": "code",
   "execution_count": 35,
   "metadata": {},
   "outputs": [
    {
     "data": {
      "text/plain": [
       "Text(0, 0.5, 'MPG')"
      ]
     },
     "execution_count": 35,
     "metadata": {},
     "output_type": "execute_result"
    },
    {
     "data": {
      "image/png": "[encoded data removed]",
      "text/plain": [
       "<Figure size 432x288 with 1 Axes>"
      ]
     },
     "metadata": {
      "needs_background": "light"
     },
     "output_type": "display_data"
    }
   ],
   "source": [
    "#USE MATPLOTLIB SCATTER FOR THE DATAPOINTS AND PLOT FOR THE REGRESSION LINE\n",
    "\n",
    "plt.scatter(x1_2d_array,y_2d_array,color='c')\n",
    "plt.plot(x1_2d_array,y_predicted_using_scikit,color='r')\n",
    "plt.xlabel('Displacement')\n",
    "plt.ylabel('MPG')"
   ]
  },
  {
   "cell_type": "code",
   "execution_count": 36,
   "metadata": {},
   "outputs": [
    {
     "name": "stdout",
     "output_type": "stream",
     "text": [
      "MSE With Implemented Algorithm: 21.5261604508619\n",
      "MSE With Scikit Algorithm: 21.5261604508619\n"
     ]
    }
   ],
   "source": [
    "#THIS IS A TEST USING THE MEAN SQUARED ERROR TO CHECK WHICH ALGORITHM PERFORMED BETTER \n",
    "#IT SEEMS THAT BOTH PERFORMED EXACTLY THE SAME WHEN USING DISPLACEMENT AS INDEPENDENT VARIABLE\n",
    "\n",
    "from sklearn.metrics import mean_squared_error\n",
    "\n",
    "mse_on_implemented = mean_squared_error(y,y_predicted_using_displacement)\n",
    "mse_on_scikit = mean_squared_error(y,y_predicted_using_scikit)\n",
    "\n",
    "print('MSE With Implemented Algorithm: {}\\nMSE With Scikit Algorithm: {}'.format(mse_on_implemented, mse_on_scikit))"
   ]
  }
 ],
 "metadata": {
  "kernelspec": {
   "display_name": "Python 3",
   "language": "python",
   "name": "python3"
  },
  "language_info": {
   "codemirror_mode": {
    "name": "ipython",
    "version": 3
   },
   "file_extension": ".py",
   "mimetype": "text/x-python",
   "name": "python",
   "nbconvert_exporter": "python",
   "pygments_lexer": "ipython3",
   "version": "3.7.3"
  }
 },
 "nbformat": 4,
 "nbformat_minor": 2
}
