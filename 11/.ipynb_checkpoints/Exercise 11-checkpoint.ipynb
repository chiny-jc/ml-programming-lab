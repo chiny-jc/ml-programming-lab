{
 "cells": [
  {
   "cell_type": "markdown",
   "metadata": {},
   "source": [
    "### Joshua Campos\n",
    "## Lab Course Machine Learning\n",
    "## Exercise 11"
   ]
  },
  {
   "cell_type": "markdown",
   "metadata": {},
   "source": [
    "Import all necessary libraries."
   ]
  },
  {
   "cell_type": "code",
   "execution_count": 1,
   "metadata": {},
   "outputs": [],
   "source": [
    "import numpy as np\n",
    "import pandas as pd\n",
    "import matplotlib.pyplot as plt\n",
    "import os\n",
    "\n",
    "from libsvm.svmutil import *\n",
    "from sklearn.datasets import load_svmlight_file\n",
    "from sklearn.feature_extraction.text import TfidfVectorizer\n",
    "from sklearn.naive_bayes import MultinomialNB\n",
    "from sklearn.metrics import accuracy_score"
   ]
  },
  {
   "cell_type": "markdown",
   "metadata": {},
   "source": [
    "Define all the functions that will be used for the K-Means Clustering algorithm. "
   ]
  },
  {
   "cell_type": "code",
   "execution_count": 2,
   "metadata": {},
   "outputs": [],
   "source": [
    "def select_random_datapoint(dataset):\n",
    "    num_samples = len(dataset)\n",
    "    random_index = np.random.randint(0,num_samples)\n",
    "    sample = dataset.iloc[random_index,:]\n",
    "    return sample\n",
    "\n",
    "def calculate_distances(dataset,datapoint):\n",
    "    rows = dataset.shape[0]\n",
    "    columns = dataset.shape[1]\n",
    "    total_distances = []\n",
    "    \n",
    "    for row in range(rows):\n",
    "        distance_arr = []\n",
    "        for column in range(columns-1): #CHANGE HERE -1\n",
    "            distance = abs(dataset.iloc[row,column] - datapoint[column])\n",
    "            distance_arr.append(distance)\n",
    "        sample_distance = np.sum(distance_arr)\n",
    "        total_distances.append(sample_distance)\n",
    "            \n",
    "    return np.array(total_distances)\n",
    "\n",
    "def get_max_distance_datapoint(dataset,distance_arr):\n",
    "    max_dist = np.max(distance_arr)\n",
    "    max_dist_index = np.where(distance_arr == max_dist)[0][0]\n",
    "    max_dist_sample = dataset.iloc[max_dist_index,:]\n",
    "    return max_dist_sample\n",
    "\n",
    "def define_centroids(dataset,k):\n",
    "    centroids = []\n",
    "    dist_matrix = np.array([])\n",
    "    new_centroid = select_random_datapoint(dataset)\n",
    "    centroids.append(new_centroid)\n",
    "    dist_arr = calculate_distances(dataset,new_centroid)\n",
    "    dist_matrix = np.concatenate((dist_matrix,dist_arr))\n",
    "    \n",
    "    for i in range(k-1):\n",
    "        if i == 0:\n",
    "            dist_matrix_sum = dist_matrix\n",
    "        else:\n",
    "            dist_matrix_sum = np.sum(dist_matrix,axis=0)\n",
    "        for each in centroids:\n",
    "            centroid_name = each.name\n",
    "            dist_matrix_sum[centroid_name] = 0\n",
    "        next_centroid = get_max_distance_datapoint(dataset,dist_matrix_sum)\n",
    "        centroids.append(next_centroid)\n",
    "        dist_arr = calculate_distances(dataset,next_centroid)\n",
    "        dist_matrix = np.vstack((dist_matrix,dist_arr))\n",
    "    \n",
    "    return centroids\n",
    "\n",
    "def assign_clusters(dataset,centroids_arr):\n",
    "    num_rows = dataset.shape[0]\n",
    "    num_columns = dataset.shape[1]\n",
    "    cluster_assignment = []\n",
    "\n",
    "    for row in range(num_rows):\n",
    "        distance_arr = np.array([])\n",
    "        for c in centroids_arr:\n",
    "            distance = 0\n",
    "            for column in range(num_columns-1): #CHANGE HERE -1\n",
    "                distance += abs(dataset.iloc[row,column] - c[column])\n",
    "            distance_arr = np.append(distance_arr,distance)\n",
    "        min_dist = np.min(distance_arr)\n",
    "        min_dist_index = np.where(distance_arr == min_dist)[0][0]\n",
    "        cluster_assignment.append(min_dist_index)\n",
    "    \n",
    "    return cluster_assignment\n",
    "\n",
    "def get_cluster_centroids(dataset,k):\n",
    "    new_centroids = []\n",
    "    for cluster in range(k):\n",
    "        clustered_data = dataset[dataset['cluster'] == cluster]\n",
    "        grouped_dist = []\n",
    "        for row in range(len(clustered_data)):\n",
    "            current_row = clustered_data.iloc[row,:]\n",
    "            dist_arr = calculate_distances(clustered_data,current_row)\n",
    "            dist_sum = np.sum(dist_arr)\n",
    "            grouped_dist.append(dist_sum)\n",
    "        min_dist = np.min(grouped_dist)\n",
    "        min_dist_index = np.where(grouped_dist == min_dist)[0][0]\n",
    "        mean_centroid = clustered_data.iloc[min_dist_index,:]\n",
    "        new_centroids.append(mean_centroid)\n",
    "    \n",
    "    return new_centroids\n",
    "\n",
    "def compare_centroids(old_centroids,new_centroids,k):\n",
    "    old_centroids_names = []\n",
    "    new_centroids_names = []\n",
    "    for i in range(k):\n",
    "        old_centroids_names.append(old_centroids[i].name)\n",
    "        new_centroids_names.append(new_centroids[i].name)\n",
    "    same_centroids = old_centroids_names == new_centroids_names\n",
    "    return same_centroids"
   ]
  },
  {
   "cell_type": "markdown",
   "metadata": {},
   "source": [
    "Define the main function that will perform the K-Means Clustering."
   ]
  },
  {
   "cell_type": "code",
   "execution_count": 3,
   "metadata": {},
   "outputs": [],
   "source": [
    "def cluster_kmeans(dataset,k):\n",
    "    centroids = define_centroids(dataset,k)\n",
    "    cluster_assignment = assign_clusters(dataset,centroids)\n",
    "    dataset['cluster'] = cluster_assignment\n",
    "    \n",
    "    same_centroids = False\n",
    "    while same_centroids == False:\n",
    "        new_centroids = get_cluster_centroids(dataset,k)\n",
    "        cluster_assignment = assign_clusters(dataset,new_centroids)\n",
    "        dataset['cluster'] = cluster_assignment\n",
    "        same_centroids = compare_centroids(centroids,new_centroids,k)\n",
    "        centroids = new_centroids\n",
    "        \n",
    "    return dataset"
   ]
  },
  {
   "cell_type": "markdown",
   "metadata": {},
   "source": [
    "### Exercise 1: Implement K Means Clustering Algorithm"
   ]
  },
  {
   "cell_type": "markdown",
   "metadata": {},
   "source": [
    "Read the iris dataset in LibSVM format and convert it into a dataframe. Then print the head of the dataframe to understand the structure of the data."
   ]
  },
  {
   "cell_type": "code",
   "execution_count": 4,
   "metadata": {},
   "outputs": [
    {
     "data": {
      "text/html": [
       "<div>\n",
       "<style scoped>\n",
       "    .dataframe tbody tr th:only-of-type {\n",
       "        vertical-align: middle;\n",
       "    }\n",
       "\n",
       "    .dataframe tbody tr th {\n",
       "        vertical-align: top;\n",
       "    }\n",
       "\n",
       "    .dataframe thead th {\n",
       "        text-align: right;\n",
       "    }\n",
       "</style>\n",
       "<table border=\"1\" class=\"dataframe\">\n",
       "  <thead>\n",
       "    <tr style=\"text-align: right;\">\n",
       "      <th></th>\n",
       "      <th>0</th>\n",
       "      <th>1</th>\n",
       "      <th>2</th>\n",
       "      <th>3</th>\n",
       "    </tr>\n",
       "  </thead>\n",
       "  <tbody>\n",
       "    <tr>\n",
       "      <th>0</th>\n",
       "      <td>-0.555556</td>\n",
       "      <td>0.250000</td>\n",
       "      <td>-0.864407</td>\n",
       "      <td>-0.916667</td>\n",
       "    </tr>\n",
       "    <tr>\n",
       "      <th>1</th>\n",
       "      <td>-0.666667</td>\n",
       "      <td>-0.166667</td>\n",
       "      <td>-0.864407</td>\n",
       "      <td>-0.916667</td>\n",
       "    </tr>\n",
       "    <tr>\n",
       "      <th>2</th>\n",
       "      <td>-0.777778</td>\n",
       "      <td>0.000000</td>\n",
       "      <td>-0.898305</td>\n",
       "      <td>-0.916667</td>\n",
       "    </tr>\n",
       "    <tr>\n",
       "      <th>3</th>\n",
       "      <td>-0.833333</td>\n",
       "      <td>-0.083333</td>\n",
       "      <td>-0.830508</td>\n",
       "      <td>-0.916667</td>\n",
       "    </tr>\n",
       "    <tr>\n",
       "      <th>4</th>\n",
       "      <td>-0.611111</td>\n",
       "      <td>0.333333</td>\n",
       "      <td>-0.864407</td>\n",
       "      <td>-0.916667</td>\n",
       "    </tr>\n",
       "  </tbody>\n",
       "</table>\n",
       "</div>"
      ],
      "text/plain": [
       "          0         1         2         3\n",
       "0 -0.555556  0.250000 -0.864407 -0.916667\n",
       "1 -0.666667 -0.166667 -0.864407 -0.916667\n",
       "2 -0.777778  0.000000 -0.898305 -0.916667\n",
       "3 -0.833333 -0.083333 -0.830508 -0.916667\n",
       "4 -0.611111  0.333333 -0.864407 -0.916667"
      ]
     },
     "execution_count": 4,
     "metadata": {},
     "output_type": "execute_result"
    }
   ],
   "source": [
    "iris_svm = load_svmlight_file('iris.dat')\n",
    "\n",
    "X = iris_svm[0]\n",
    "y = iris_svm[1]\n",
    "\n",
    "iris_dataset = pd.DataFrame(X.todense())\n",
    "\n",
    "iris_dataset.head()"
   ]
  },
  {
   "cell_type": "markdown",
   "metadata": {},
   "source": [
    "Execute the K-Means Clustering algorithm on the iris dataset and then print the head of the dataframe with the assigned cluster numbers. We decide to use a 'k' of three, because we know that the dataset has three types of iris, so it's better to check this way if our algorithm is performing well."
   ]
  },
  {
   "cell_type": "code",
   "execution_count": 5,
   "metadata": {},
   "outputs": [
    {
     "data": {
      "text/html": [
       "<div>\n",
       "<style scoped>\n",
       "    .dataframe tbody tr th:only-of-type {\n",
       "        vertical-align: middle;\n",
       "    }\n",
       "\n",
       "    .dataframe tbody tr th {\n",
       "        vertical-align: top;\n",
       "    }\n",
       "\n",
       "    .dataframe thead th {\n",
       "        text-align: right;\n",
       "    }\n",
       "</style>\n",
       "<table border=\"1\" class=\"dataframe\">\n",
       "  <thead>\n",
       "    <tr style=\"text-align: right;\">\n",
       "      <th></th>\n",
       "      <th>0</th>\n",
       "      <th>1</th>\n",
       "      <th>2</th>\n",
       "      <th>3</th>\n",
       "      <th>cluster</th>\n",
       "    </tr>\n",
       "  </thead>\n",
       "  <tbody>\n",
       "    <tr>\n",
       "      <th>0</th>\n",
       "      <td>-0.555556</td>\n",
       "      <td>0.250000</td>\n",
       "      <td>-0.864407</td>\n",
       "      <td>-0.916667</td>\n",
       "      <td>2</td>\n",
       "    </tr>\n",
       "    <tr>\n",
       "      <th>1</th>\n",
       "      <td>-0.666667</td>\n",
       "      <td>-0.166667</td>\n",
       "      <td>-0.864407</td>\n",
       "      <td>-0.916667</td>\n",
       "      <td>2</td>\n",
       "    </tr>\n",
       "    <tr>\n",
       "      <th>2</th>\n",
       "      <td>-0.777778</td>\n",
       "      <td>0.000000</td>\n",
       "      <td>-0.898305</td>\n",
       "      <td>-0.916667</td>\n",
       "      <td>2</td>\n",
       "    </tr>\n",
       "    <tr>\n",
       "      <th>3</th>\n",
       "      <td>-0.833333</td>\n",
       "      <td>-0.083333</td>\n",
       "      <td>-0.830508</td>\n",
       "      <td>-0.916667</td>\n",
       "      <td>2</td>\n",
       "    </tr>\n",
       "    <tr>\n",
       "      <th>4</th>\n",
       "      <td>-0.611111</td>\n",
       "      <td>0.333333</td>\n",
       "      <td>-0.864407</td>\n",
       "      <td>-0.916667</td>\n",
       "      <td>2</td>\n",
       "    </tr>\n",
       "  </tbody>\n",
       "</table>\n",
       "</div>"
      ],
      "text/plain": [
       "          0         1         2         3  cluster\n",
       "0 -0.555556  0.250000 -0.864407 -0.916667        2\n",
       "1 -0.666667 -0.166667 -0.864407 -0.916667        2\n",
       "2 -0.777778  0.000000 -0.898305 -0.916667        2\n",
       "3 -0.833333 -0.083333 -0.830508 -0.916667        2\n",
       "4 -0.611111  0.333333 -0.864407 -0.916667        2"
      ]
     },
     "execution_count": 5,
     "metadata": {},
     "output_type": "execute_result"
    }
   ],
   "source": [
    "clustered_data = cluster_kmeans(iris_dataset,3)\n",
    "clustered_data.head()"
   ]
  },
  {
   "cell_type": "markdown",
   "metadata": {},
   "source": [
    "Now we plot the dataset, before and after the clustering; first on sepal length and width, and then on petal length and width. We can clearly see how the clustering algorithm did a good job separating the three types of iris."
   ]
  },
  {
   "cell_type": "code",
   "execution_count": 6,
   "metadata": {},
   "outputs": [
    {
     "data": {
      "image/png": "[encoded data removed]",
      "text/plain": [
       "<Figure size 1152x720 with 4 Axes>"
      ]
     },
     "metadata": {
      "needs_background": "light"
     },
     "output_type": "display_data"
    }
   ],
   "source": [
    "color_arr = ['r','g','b']\n",
    "\n",
    "plt.figure(figsize=(16,10))\n",
    "plt.subplot(2,2,1)\n",
    "plt.scatter(iris_dataset[0],iris_dataset[1])\n",
    "\n",
    "plt.subplot(2,2,2)\n",
    "for i in range(3):\n",
    "    plt.scatter(clustered_data[0][clustered_data['cluster'] == i],\n",
    "                clustered_data[1][clustered_data['cluster'] == i],c=color_arr[i])\n",
    "    \n",
    "plt.subplot(2,2,3)\n",
    "plt.scatter(iris_dataset[2],iris_dataset[3])\n",
    "\n",
    "plt.subplot(2,2,4)\n",
    "for i in range(3):\n",
    "    plt.scatter(clustered_data[2][clustered_data['cluster'] == i],\n",
    "                clustered_data[3][clustered_data['cluster'] == i],c=color_arr[i])"
   ]
  },
  {
   "cell_type": "markdown",
   "metadata": {},
   "source": [
    "#### Difference Between K-Means and KNN.\n",
    "\n",
    "KNN is a supervised algorithm used for classification, which means that we have data with its corresponding labels. KNN takes into account a 'k' number of neighbors in order to make the prediction for the current datapoint, which we can later check the accuracy of our model. \n",
    "\n",
    "K-Means is an unsupervised algorithm used for clustering, which means that we have data with no labels. K-Means takes into account the mean distance between the datapoints to create a 'k' number of clusters. For this type of algorithm we can't check the accuracy, as we don't have labels to compare."
   ]
  },
  {
   "cell_type": "markdown",
   "metadata": {},
   "source": [
    "### Exercise 2: Cluster News Articles"
   ]
  },
  {
   "cell_type": "markdown",
   "metadata": {},
   "source": [
    "We read the directory where we have all the news files, and get the categories. "
   ]
  },
  {
   "cell_type": "code",
   "execution_count": 7,
   "metadata": {},
   "outputs": [
    {
     "data": {
      "text/plain": [
       "['alt.atheism',\n",
       " 'comp.graphics',\n",
       " 'comp.os.ms-windows.misc',\n",
       " 'comp.sys.ibm.pc.hardware',\n",
       " 'comp.sys.mac.hardware',\n",
       " 'comp.windows.x',\n",
       " 'misc.forsale',\n",
       " 'rec.autos',\n",
       " 'rec.motorcycles',\n",
       " 'rec.sport.baseball',\n",
       " 'rec.sport.hockey',\n",
       " 'sci.crypt',\n",
       " 'sci.electronics',\n",
       " 'sci.med',\n",
       " 'sci.space',\n",
       " 'soc.religion.christian',\n",
       " 'talk.politics.guns',\n",
       " 'talk.politics.mideast',\n",
       " 'talk.politics.misc',\n",
       " 'talk.religion.misc']"
      ]
     },
     "execution_count": 7,
     "metadata": {},
     "output_type": "execute_result"
    }
   ],
   "source": [
    "train_directory = '20news-bydate/20news-bydate-train/'\n",
    "test_directory = '20news-bydate/20news-bydate-test/'\n",
    "\n",
    "news_categories = os.listdir(train_directory)\n",
    "news_categories"
   ]
  },
  {
   "cell_type": "markdown",
   "metadata": {},
   "source": [
    "We start looping across the files, reading them, and inserting them into lists to create our training and testing set. "
   ]
  },
  {
   "cell_type": "code",
   "execution_count": 8,
   "metadata": {},
   "outputs": [],
   "source": [
    "X_train = []\n",
    "y_train = []\n",
    "\n",
    "for category in news_categories:\n",
    "    category_directory = train_directory+category+'/'\n",
    "    for filename in os.listdir(category_directory):\n",
    "        file_directory = category_directory+filename\n",
    "        file = open(file_directory, \"r\")\n",
    "        text = file.read()\n",
    "        text_words = text.split()\n",
    "        clean_text = ' '.join(text_words)\n",
    "        X_train.append(clean_text)\n",
    "        y_train.append(category)\n",
    "        \n",
    "X_test = []\n",
    "y_test = []\n",
    "\n",
    "for category in news_categories:\n",
    "    category_directory = test_directory+category+'/'\n",
    "    for filename in os.listdir(category_directory):\n",
    "        file_directory = category_directory+filename\n",
    "        file = open(file_directory, \"r\")\n",
    "        text = file.read()\n",
    "        text_words = text.split()\n",
    "        clean_text = ' '.join(text_words)\n",
    "        X_test.append(clean_text)\n",
    "        y_test.append(category)"
   ]
  },
  {
   "cell_type": "markdown",
   "metadata": {},
   "source": [
    "We convert the lists into arrays and then into dataframes, so we can use the data in the algorithm. Then we print the head to see how the data is structured."
   ]
  },
  {
   "cell_type": "code",
   "execution_count": 9,
   "metadata": {},
   "outputs": [
    {
     "data": {
      "text/html": [
       "<div>\n",
       "<style scoped>\n",
       "    .dataframe tbody tr th:only-of-type {\n",
       "        vertical-align: middle;\n",
       "    }\n",
       "\n",
       "    .dataframe tbody tr th {\n",
       "        vertical-align: top;\n",
       "    }\n",
       "\n",
       "    .dataframe thead th {\n",
       "        text-align: right;\n",
       "    }\n",
       "</style>\n",
       "<table border=\"1\" class=\"dataframe\">\n",
       "  <thead>\n",
       "    <tr style=\"text-align: right;\">\n",
       "      <th></th>\n",
       "      <th>0</th>\n",
       "    </tr>\n",
       "  </thead>\n",
       "  <tbody>\n",
       "    <tr>\n",
       "      <th>0</th>\n",
       "      <td>From: mathew &lt;mathew@mantis.co.uk&gt; Subject: Al...</td>\n",
       "    </tr>\n",
       "    <tr>\n",
       "      <th>1</th>\n",
       "      <td>From: mathew &lt;mathew@mantis.co.uk&gt; Subject: Al...</td>\n",
       "    </tr>\n",
       "    <tr>\n",
       "      <th>2</th>\n",
       "      <td>From: I3150101@dbstu1.rz.tu-bs.de (Benedikt Ro...</td>\n",
       "    </tr>\n",
       "    <tr>\n",
       "      <th>3</th>\n",
       "      <td>From: mathew &lt;mathew@mantis.co.uk&gt; Subject: Re...</td>\n",
       "    </tr>\n",
       "    <tr>\n",
       "      <th>4</th>\n",
       "      <td>From: strom@Watson.Ibm.Com (Rob Strom) Subject...</td>\n",
       "    </tr>\n",
       "  </tbody>\n",
       "</table>\n",
       "</div>"
      ],
      "text/plain": [
       "                                                   0\n",
       "0  From: mathew <mathew@mantis.co.uk> Subject: Al...\n",
       "1  From: mathew <mathew@mantis.co.uk> Subject: Al...\n",
       "2  From: I3150101@dbstu1.rz.tu-bs.de (Benedikt Ro...\n",
       "3  From: mathew <mathew@mantis.co.uk> Subject: Re...\n",
       "4  From: strom@Watson.Ibm.Com (Rob Strom) Subject..."
      ]
     },
     "execution_count": 9,
     "metadata": {},
     "output_type": "execute_result"
    }
   ],
   "source": [
    "X_train_arr = np.array(X_train).reshape(-1,1)\n",
    "X_test_arr = np.array(X_test).reshape(-1,1)\n",
    "\n",
    "X_train_df = pd.DataFrame(X_train_arr)\n",
    "X_test_df = pd.DataFrame(X_test_arr)\n",
    "\n",
    "X_train_df.head()"
   ]
  },
  {
   "cell_type": "markdown",
   "metadata": {},
   "source": [
    "We use TFIDF Vectorizer so we can convert the mails into numbers, so we can process the data. "
   ]
  },
  {
   "cell_type": "code",
   "execution_count": 10,
   "metadata": {},
   "outputs": [],
   "source": [
    "vectorizer = TfidfVectorizer(use_idf=True, lowercase=True, stop_words='english')\n",
    "\n",
    "X_train_tfidf = vectorizer.fit_transform(X_train_df[0])\n",
    "X_test_tfidf = vectorizer.transform(X_test_df[0])"
   ]
  },
  {
   "cell_type": "markdown",
   "metadata": {},
   "source": [
    "We use the MultinomialNB to cluster our data."
   ]
  },
  {
   "cell_type": "code",
   "execution_count": 11,
   "metadata": {},
   "outputs": [
    {
     "data": {
      "text/plain": [
       "MultinomialNB(alpha=1.0, class_prior=None, fit_prior=True)"
      ]
     },
     "execution_count": 11,
     "metadata": {},
     "output_type": "execute_result"
    }
   ],
   "source": [
    "mnb_model = MultinomialNB()\n",
    "mnb_model.fit(X_train_tfidf, y_train)"
   ]
  },
  {
   "cell_type": "markdown",
   "metadata": {},
   "source": [
    "We get the predictions for the train and test set."
   ]
  },
  {
   "cell_type": "code",
   "execution_count": 12,
   "metadata": {},
   "outputs": [],
   "source": [
    "train_predicted = mnb_model.predict(X_train_tfidf)\n",
    "test_predicted = mnb_model.predict(X_test_tfidf)"
   ]
  },
  {
   "cell_type": "markdown",
   "metadata": {},
   "source": [
    "We check the accuracy for both predictions with the used model, which performed really well. "
   ]
  },
  {
   "cell_type": "code",
   "execution_count": 13,
   "metadata": {},
   "outputs": [
    {
     "name": "stdout",
     "output_type": "stream",
     "text": [
      "Train Accuracy: 0.9573979140887396\n",
      "Test Accuracy: 0.8169144981412639\n"
     ]
    }
   ],
   "source": [
    "train_acc = accuracy_score(y_train,train_predicted)\n",
    "test_acc = accuracy_score(y_test,test_predicted)\n",
    "\n",
    "print('Train Accuracy: {}\\nTest Accuracy: {}'.format(train_acc,test_acc))"
   ]
  },
  {
   "cell_type": "markdown",
   "metadata": {},
   "source": [
    "The MultinomialNB ran really quickly, however with the created algorithm, we couldn't run the algorithm, as it took over one hour and it didn't converge. "
   ]
  }
 ],
 "metadata": {
  "kernelspec": {
   "display_name": "Python 3",
   "language": "python",
   "name": "python3"
  },
  "language_info": {
   "codemirror_mode": {
    "name": "ipython",
    "version": 3
   },
   "file_extension": ".py",
   "mimetype": "text/x-python",
   "name": "python",
   "nbconvert_exporter": "python",
   "pygments_lexer": "ipython3",
   "version": "3.7.3"
  }
 },
 "nbformat": 4,
 "nbformat_minor": 2
}
