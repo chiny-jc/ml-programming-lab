{
 "cells": [
  {
   "cell_type": "markdown",
   "metadata": {},
   "source": [
    "### Joshua Campos - Nr. 304738"
   ]
  },
  {
   "cell_type": "markdown",
   "metadata": {},
   "source": [
    "# Exercise 2 - ML Programming Lab"
   ]
  },
  {
   "cell_type": "markdown",
   "metadata": {},
   "source": [
    "## 1.1 Pandas (10 Points)"
   ]
  },
  {
   "cell_type": "markdown",
   "metadata": {},
   "source": [
    "We need to import all the main libraries you will be using, such as Numpy, Pandas and Matplotlib."
   ]
  },
  {
   "cell_type": "code",
   "execution_count": 1,
   "metadata": {},
   "outputs": [],
   "source": [
    "import numpy as np\n",
    "import pandas as pd\n",
    "import matplotlib.pyplot as plt"
   ]
  },
  {
   "cell_type": "markdown",
   "metadata": {},
   "source": [
    "We read the data file called 'imports-85.data' using Pandas built-in function and at the same time, we define the names of the columns, as the file we imported doesn't give this information."
   ]
  },
  {
   "cell_type": "code",
   "execution_count": 2,
   "metadata": {},
   "outputs": [],
   "source": [
    "auto_imports = pd.read_csv('imports-85.data', \\\n",
    "                           names=['symboling','normalized-losses','make','fuel-type',\\\n",
    "                            'aspiration','num-of-doors','body-style','drive-wheels',\\\n",
    "                            'engine-location','wheel-base','length','width','height',\\\n",
    "                            'curb-weight','engine-type','num-of-cylinders','engine-size',\\\n",
    "                            'fuel-system','bore','stroke','compression-ratio','horsepower',\\\n",
    "                            'peak-rpm','city-mpg','highway-mpg','price'])"
   ]
  },
  {
   "cell_type": "markdown",
   "metadata": {},
   "source": [
    "For the first exercise, we need to calculate the mean, median and standard deviation of each numeric column. To do this we can start by creating a new dataframe with only the columns that have continous values, as defined in the information file for the data set. This will give us a dataframe with 15 columns."
   ]
  },
  {
   "cell_type": "code",
   "execution_count": 3,
   "metadata": {},
   "outputs": [],
   "source": [
    "numeric_columns = auto_imports[['normalized-losses','wheel-base','length','width','height',\\\n",
    "                                'curb-weight','engine-size','bore','stroke','compression-ratio',\\\n",
    "                                'horsepower','peak-rpm','city-mpg','highway-mpg','price']]"
   ]
  },
  {
   "cell_type": "markdown",
   "metadata": {},
   "source": [
    "We can't just use pandas built-in functions for the mean, median and standard deviation on our new dataframe, as not all columns are numeric values just yet; this is because several columns have questions marks for missing values, so this symbols interfere with out data types. \n",
    "\n",
    "To fix this, we created a function that loops through all columns, removing the question marks (so we don't take these rows into account for our calculations) and converting the columns to numeric values once we got rid of the questions marks. \n",
    "\n",
    "Having done this, we can now calculate the mean, median and standard deviation of our columns.\n",
    "We insert these values into a pre-defined dataframe and return this dataframe at the end of our function."
   ]
  },
  {
   "cell_type": "code",
   "execution_count": 4,
   "metadata": {},
   "outputs": [
    {
     "name": "stdout",
     "output_type": "stream",
     "text": [
      "                    normalized-losses  wheel-base      length      width  \\\n",
      "Mean                       122.000000   98.756585  174.049268  65.907805   \n",
      "Median                     115.000000   97.000000  173.200000  65.500000   \n",
      "Standard Deviation          35.442168    6.021776   12.337289   2.145204   \n",
      "\n",
      "                       height  curb-weight  engine-size      bore    stroke  \\\n",
      "Mean                53.724878  2555.565854   126.907317  3.329751  3.255423   \n",
      "Median              54.100000  2414.000000   120.000000  3.310000  3.290000   \n",
      "Standard Deviation   2.443522   520.680204    41.642693  0.273539  0.316717   \n",
      "\n",
      "                    compression-ratio  horsepower     peak-rpm   city-mpg  \\\n",
      "Mean                        10.142537  104.256158  5125.369458  25.219512   \n",
      "Median                       9.000000   95.000000  5200.000000  24.000000   \n",
      "Standard Deviation           3.972040   39.714369   479.334560   6.542142   \n",
      "\n",
      "                    highway-mpg         price  \n",
      "Mean                  30.751220  13207.129353  \n",
      "Median                30.000000  10295.000000  \n",
      "Standard Deviation     6.886443   7947.066342  \n"
     ]
    },
    {
     "name": "stderr",
     "output_type": "stream",
     "text": [
      "D:\\Users\\Joshua\\Anaconda3\\lib\\site-packages\\pandas\\core\\ops.py:1649: FutureWarning: elementwise comparison failed; returning scalar instead, but in the future will perform elementwise comparison\n",
      "  result = method(y)\n"
     ]
    }
   ],
   "source": [
    "def calculate(numeric_columns):\n",
    "    \n",
    "    calculations = pd.DataFrame(data=None, index=['Mean','Median','Standard Deviation'], columns=None)\n",
    "    \n",
    "    for column in numeric_columns:\n",
    "        mean = pd.to_numeric(numeric_columns[column][numeric_columns[column]!='?']).mean()\n",
    "        median = pd.to_numeric(numeric_columns[column][numeric_columns[column]!='?']).median()\n",
    "        stddev = pd.to_numeric(numeric_columns[column][numeric_columns[column]!='?']).std()\n",
    "        \n",
    "        calculations[column] = [mean,median,stddev]\n",
    "    \n",
    "    return calculations\n",
    "\n",
    "\n",
    "print(calculate(numeric_columns))"
   ]
  },
  {
   "cell_type": "markdown",
   "metadata": {},
   "source": [
    "For the second exercise, we have to group by the 'make' column and calculate the average of 'price', 'highway-mpg' and 'city-mpg'. One way to do it is to create a new dataframe that includes these four columns, but at the same time, we have to get rid of the missing values that are present in 'price', so we can make our calculations successfully. Once we got rid of the questions marks, we can convert the column into numeric values. \n",
    "\n",
    "Now that we have a clean dataframe with 'make' and our three numeric columns, we can group them and use Pandas built-in function to calculate the average."
   ]
  },
  {
   "cell_type": "code",
   "execution_count": 5,
   "metadata": {},
   "outputs": [
    {
     "data": {
      "text/html": [
       "<div>\n",
       "<style scoped>\n",
       "    .dataframe tbody tr th:only-of-type {\n",
       "        vertical-align: middle;\n",
       "    }\n",
       "\n",
       "    .dataframe tbody tr th {\n",
       "        vertical-align: top;\n",
       "    }\n",
       "\n",
       "    .dataframe thead th {\n",
       "        text-align: right;\n",
       "    }\n",
       "</style>\n",
       "<table border=\"1\" class=\"dataframe\">\n",
       "  <thead>\n",
       "    <tr style=\"text-align: right;\">\n",
       "      <th></th>\n",
       "      <th>city-mpg</th>\n",
       "      <th>highway-mpg</th>\n",
       "      <th>price</th>\n",
       "    </tr>\n",
       "    <tr>\n",
       "      <th>make</th>\n",
       "      <th></th>\n",
       "      <th></th>\n",
       "      <th></th>\n",
       "    </tr>\n",
       "  </thead>\n",
       "  <tbody>\n",
       "    <tr>\n",
       "      <th>alfa-romero</th>\n",
       "      <td>20.333333</td>\n",
       "      <td>26.666667</td>\n",
       "      <td>15498.333333</td>\n",
       "    </tr>\n",
       "    <tr>\n",
       "      <th>audi</th>\n",
       "      <td>19.333333</td>\n",
       "      <td>24.500000</td>\n",
       "      <td>17859.166667</td>\n",
       "    </tr>\n",
       "    <tr>\n",
       "      <th>bmw</th>\n",
       "      <td>19.375000</td>\n",
       "      <td>25.375000</td>\n",
       "      <td>26118.750000</td>\n",
       "    </tr>\n",
       "    <tr>\n",
       "      <th>chevrolet</th>\n",
       "      <td>41.000000</td>\n",
       "      <td>46.333333</td>\n",
       "      <td>6007.000000</td>\n",
       "    </tr>\n",
       "    <tr>\n",
       "      <th>dodge</th>\n",
       "      <td>28.000000</td>\n",
       "      <td>34.111111</td>\n",
       "      <td>7875.444444</td>\n",
       "    </tr>\n",
       "    <tr>\n",
       "      <th>honda</th>\n",
       "      <td>30.384615</td>\n",
       "      <td>35.461538</td>\n",
       "      <td>8184.692308</td>\n",
       "    </tr>\n",
       "    <tr>\n",
       "      <th>isuzu</th>\n",
       "      <td>24.000000</td>\n",
       "      <td>29.000000</td>\n",
       "      <td>8916.500000</td>\n",
       "    </tr>\n",
       "    <tr>\n",
       "      <th>jaguar</th>\n",
       "      <td>14.333333</td>\n",
       "      <td>18.333333</td>\n",
       "      <td>34600.000000</td>\n",
       "    </tr>\n",
       "    <tr>\n",
       "      <th>mazda</th>\n",
       "      <td>25.705882</td>\n",
       "      <td>31.941176</td>\n",
       "      <td>10652.882353</td>\n",
       "    </tr>\n",
       "    <tr>\n",
       "      <th>mercedes-benz</th>\n",
       "      <td>18.500000</td>\n",
       "      <td>21.000000</td>\n",
       "      <td>33647.000000</td>\n",
       "    </tr>\n",
       "    <tr>\n",
       "      <th>mercury</th>\n",
       "      <td>19.000000</td>\n",
       "      <td>24.000000</td>\n",
       "      <td>16503.000000</td>\n",
       "    </tr>\n",
       "    <tr>\n",
       "      <th>mitsubishi</th>\n",
       "      <td>24.923077</td>\n",
       "      <td>31.153846</td>\n",
       "      <td>9239.769231</td>\n",
       "    </tr>\n",
       "    <tr>\n",
       "      <th>nissan</th>\n",
       "      <td>27.000000</td>\n",
       "      <td>32.944444</td>\n",
       "      <td>10415.666667</td>\n",
       "    </tr>\n",
       "    <tr>\n",
       "      <th>peugot</th>\n",
       "      <td>22.454545</td>\n",
       "      <td>26.636364</td>\n",
       "      <td>15489.090909</td>\n",
       "    </tr>\n",
       "    <tr>\n",
       "      <th>plymouth</th>\n",
       "      <td>28.142857</td>\n",
       "      <td>34.142857</td>\n",
       "      <td>7963.428571</td>\n",
       "    </tr>\n",
       "    <tr>\n",
       "      <th>porsche</th>\n",
       "      <td>17.500000</td>\n",
       "      <td>25.500000</td>\n",
       "      <td>31400.500000</td>\n",
       "    </tr>\n",
       "    <tr>\n",
       "      <th>renault</th>\n",
       "      <td>23.000000</td>\n",
       "      <td>31.000000</td>\n",
       "      <td>9595.000000</td>\n",
       "    </tr>\n",
       "    <tr>\n",
       "      <th>saab</th>\n",
       "      <td>20.333333</td>\n",
       "      <td>27.333333</td>\n",
       "      <td>15223.333333</td>\n",
       "    </tr>\n",
       "    <tr>\n",
       "      <th>subaru</th>\n",
       "      <td>26.333333</td>\n",
       "      <td>30.750000</td>\n",
       "      <td>8541.250000</td>\n",
       "    </tr>\n",
       "    <tr>\n",
       "      <th>toyota</th>\n",
       "      <td>27.500000</td>\n",
       "      <td>32.906250</td>\n",
       "      <td>9885.812500</td>\n",
       "    </tr>\n",
       "    <tr>\n",
       "      <th>volkswagen</th>\n",
       "      <td>28.583333</td>\n",
       "      <td>34.916667</td>\n",
       "      <td>10077.500000</td>\n",
       "    </tr>\n",
       "    <tr>\n",
       "      <th>volvo</th>\n",
       "      <td>21.181818</td>\n",
       "      <td>25.818182</td>\n",
       "      <td>18063.181818</td>\n",
       "    </tr>\n",
       "  </tbody>\n",
       "</table>\n",
       "</div>"
      ],
      "text/plain": [
       "                city-mpg  highway-mpg         price\n",
       "make                                               \n",
       "alfa-romero    20.333333    26.666667  15498.333333\n",
       "audi           19.333333    24.500000  17859.166667\n",
       "bmw            19.375000    25.375000  26118.750000\n",
       "chevrolet      41.000000    46.333333   6007.000000\n",
       "dodge          28.000000    34.111111   7875.444444\n",
       "honda          30.384615    35.461538   8184.692308\n",
       "isuzu          24.000000    29.000000   8916.500000\n",
       "jaguar         14.333333    18.333333  34600.000000\n",
       "mazda          25.705882    31.941176  10652.882353\n",
       "mercedes-benz  18.500000    21.000000  33647.000000\n",
       "mercury        19.000000    24.000000  16503.000000\n",
       "mitsubishi     24.923077    31.153846   9239.769231\n",
       "nissan         27.000000    32.944444  10415.666667\n",
       "peugot         22.454545    26.636364  15489.090909\n",
       "plymouth       28.142857    34.142857   7963.428571\n",
       "porsche        17.500000    25.500000  31400.500000\n",
       "renault        23.000000    31.000000   9595.000000\n",
       "saab           20.333333    27.333333  15223.333333\n",
       "subaru         26.333333    30.750000   8541.250000\n",
       "toyota         27.500000    32.906250   9885.812500\n",
       "volkswagen     28.583333    34.916667  10077.500000\n",
       "volvo          21.181818    25.818182  18063.181818"
      ]
     },
     "execution_count": 5,
     "metadata": {},
     "output_type": "execute_result"
    }
   ],
   "source": [
    "df_make_mpgs_price = auto_imports[['make','city-mpg','highway-mpg','price']]\\\n",
    "                                    [auto_imports['price']!='?']\n",
    "df_make_mpgs_price['price'] = pd.to_numeric(df_make_mpgs_price['price'])\n",
    "df_groupby_make_mean = df_make_mpgs_price.groupby('make').mean()\n",
    "\n",
    "df_groupby_make_mean"
   ]
  },
  {
   "cell_type": "markdown",
   "metadata": {},
   "source": [
    "For the next exercise, we have to use Seaborn to creat a pair plot of all the columns that have int64 data type. To know which columns have int64 data types, we can check the dataframe attribute '.dtypes' which shows the datatypes for all the columns. "
   ]
  },
  {
   "cell_type": "code",
   "execution_count": 6,
   "metadata": {},
   "outputs": [
    {
     "data": {
      "text/plain": [
       "symboling              int64\n",
       "normalized-losses     object\n",
       "make                  object\n",
       "fuel-type             object\n",
       "aspiration            object\n",
       "num-of-doors          object\n",
       "body-style            object\n",
       "drive-wheels          object\n",
       "engine-location       object\n",
       "wheel-base           float64\n",
       "length               float64\n",
       "width                float64\n",
       "height               float64\n",
       "curb-weight            int64\n",
       "engine-type           object\n",
       "num-of-cylinders      object\n",
       "engine-size            int64\n",
       "fuel-system           object\n",
       "bore                  object\n",
       "stroke                object\n",
       "compression-ratio    float64\n",
       "horsepower            object\n",
       "peak-rpm              object\n",
       "city-mpg               int64\n",
       "highway-mpg            int64\n",
       "price                 object\n",
       "dtype: object"
      ]
     },
     "execution_count": 6,
     "metadata": {},
     "output_type": "execute_result"
    }
   ],
   "source": [
    "auto_imports.dtypes"
   ]
  },
  {
   "cell_type": "markdown",
   "metadata": {},
   "source": [
    "Now that we know which columns have int64 data types, we can create a new dataframe that includes all five columns: 'symboling', 'curb-weight', 'engine-size', 'city-mpg' and 'highway-mpg'. We can now import the Seaborn module and create a pair plot using our new dataframe. "
   ]
  },
  {
   "cell_type": "code",
   "execution_count": 7,
   "metadata": {},
   "outputs": [
    {
     "data": {
      "text/plain": [
       "<seaborn.axisgrid.PairGrid at 0x1a78c29eeb8>"
      ]
     },
     "execution_count": 7,
     "metadata": {},
     "output_type": "execute_result"
    },
    {
     "data": {
      "image/png": "[encoded data removed]",
      "text/plain": [
       "<Figure size 900x900 with 30 Axes>"
      ]
     },
     "metadata": {
      "needs_background": "light"
     },
     "output_type": "display_data"
    }
   ],
   "source": [
    "import seaborn as sns\n",
    "\n",
    "df_int64 = auto_imports[['symboling','curb-weight','engine-size','city-mpg','highway-mpg']]\n",
    "sns.pairplot(df_int64)"
   ]
  },
  {
   "cell_type": "markdown",
   "metadata": {},
   "source": [
    "**Plot Explanation:** What a pair plot does is to plot each column against all others to find the relationship between each pair of columns of the dataframe. In our example, we have a dataframe with five columns, so our pair plot will show 25 plots. When a column is plotted against itself, it will plot a histogram to show the distribution of the data, but when it is plotted against the other columns, it plots a scatter plot to show the relationship that exists between both columns.\n",
    "\n",
    "The most important information that we can obtain from this pair plot is the relationship between 'curb-weight', 'engine-size','city-mpg' and 'highway-mpg', as we can observe that between all of them there is a linear correlation. "
   ]
  },
  {
   "cell_type": "markdown",
   "metadata": {},
   "source": [
    "For the next exercise, we have to fit a simple linear regression using 'city-mpg' as our dependent variable and 'engine-size' as our independent variable. \n",
    "\n",
    "What we do now is implement the learn and predict simple linear regression algorithm that we used before to fit our linear regression to our data; after this, we plot our regression line on top of a scatter plot of our data to see how the model fit."
   ]
  },
  {
   "cell_type": "code",
   "execution_count": 8,
   "metadata": {},
   "outputs": [
    {
     "data": {
      "text/plain": [
       "Text(0, 0.5, 'City MPG')"
      ]
     },
     "execution_count": 8,
     "metadata": {},
     "output_type": "execute_result"
    },
    {
     "data": {
      "image/png": "[encoded data removed]",
      "text/plain": [
       "<Figure size 432x288 with 1 Axes>"
      ]
     },
     "metadata": {
      "needs_background": "light"
     },
     "output_type": "display_data"
    }
   ],
   "source": [
    "def learn_simple_linreg(x,y):\n",
    "    x_mean = x.mean()\n",
    "    y_mean = y.mean()\n",
    "    \n",
    "    b_1 = np.sum((x-x_mean)*(y-y_mean))/np.sum((x-x_mean)**2)\n",
    "    b_0 = y_mean-b_1*x_mean\n",
    "    \n",
    "    return(b_0, b_1)\n",
    "\n",
    "x = df_int64['engine-size']\n",
    "y = df_int64['city-mpg']\n",
    "\n",
    "b_0, b_1 = learn_simple_linreg(x,y)\n",
    "\n",
    "def predict_simple_linreg(x):\n",
    "    return b_0+b_1*x\n",
    "\n",
    "y_predicted = predict_simple_linreg(x)\n",
    "\n",
    "plt.scatter(x,y,color='c')\n",
    "plt.plot(x,y_predicted, color='red')\n",
    "plt.xlabel('Engine Size')\n",
    "plt.ylabel('City MPG')"
   ]
  },
  {
   "cell_type": "markdown",
   "metadata": {},
   "source": [
    "**Comment:** We can see that the regression line does not fit the behavior of the data very well. There are large error rates when the engine size is smaller and then again some larger error rates at the end, where the engine size is larger. By looking at the scatter plot, we can tell that the behavior of the data is more of a quadratic function, as it has a curvature. Instead of a simple linear regression model, we could use a polynomial linear regression of second degree, which would fit better the behavior of our data."
   ]
  },
  {
   "cell_type": "markdown",
   "metadata": {},
   "source": [
    "## 1.2 Linear Regression via Normal Equations (10 Points)"
   ]
  },
  {
   "cell_type": "markdown",
   "metadata": {},
   "source": [
    "Before we start modelling, we need to make sure that our data is clean and ready. This is why we created a function to remove all the missing values (?) from the dataset. At the same time, we remove the column 'normalized-losses' from our data, because it has over 40 missing values, which would remove almost one fourth of our useful data. This means that we won't be using this column to fit our model."
   ]
  },
  {
   "cell_type": "code",
   "execution_count": 9,
   "metadata": {},
   "outputs": [
    {
     "name": "stderr",
     "output_type": "stream",
     "text": [
      "D:\\Users\\Joshua\\Anaconda3\\lib\\site-packages\\pandas\\core\\ops.py:1649: FutureWarning: elementwise comparison failed; returning scalar instead, but in the future will perform elementwise comparison\n",
      "  result = method(y)\n"
     ]
    }
   ],
   "source": [
    "def remove_question_marks(dataframe):\n",
    "    old_dataframe = dataframe\n",
    "    for column in dataframe:\n",
    "        new_dataframe = old_dataframe[old_dataframe[column] != '?']\n",
    "        old_dataframe=new_dataframe\n",
    "    return new_dataframe\n",
    "\n",
    "numeric_columns_clean = remove_question_marks(numeric_columns.iloc[:, numeric_columns.columns \\\n",
    "                                                                   != 'normalized-losses'])"
   ]
  },
  {
   "cell_type": "markdown",
   "metadata": {},
   "source": [
    "After removing the missing values, we see that not all columns that contain numbers are actually of numerical data type; this was caused by the questions marks that were present in the dataset before. Therefore, we create a function that loops through all columns converting all possible ones to numerical types."
   ]
  },
  {
   "cell_type": "code",
   "execution_count": 10,
   "metadata": {},
   "outputs": [],
   "source": [
    "def convert_dataframe_to_numeric(dataframe):\n",
    "    numeric_dataframe = dataframe\n",
    "    for column in dataframe:\n",
    "        try:\n",
    "            numeric_dataframe[column] = pd.to_numeric(dataframe[column])\n",
    "        except ValueError:\n",
    "            pass\n",
    "    return numeric_dataframe\n",
    "\n",
    "numeric_columns_clean = convert_dataframe_to_numeric(numeric_columns_clean)"
   ]
  },
  {
   "cell_type": "markdown",
   "metadata": {},
   "source": [
    "In order to decide which variables we should use for our model, we created two functions: \n",
    "\n",
    "1. The first one checks the significance level of each variable against price using 'pearsonr' function and comparing the p-value to decide if it is significant or not. We decided not to use this function because it recommended us to use nine columns (p-value < 0.05), which might be too many for our model. "
   ]
  },
  {
   "cell_type": "code",
   "execution_count": 11,
   "metadata": {},
   "outputs": [],
   "source": [
    "from scipy.stats import pearsonr\n",
    "\n",
    "def check_significance_levels(x_data, y_data, significance_level):\n",
    "    significant_columns = []\n",
    "    for column in x_data:\n",
    "        coeff, pvalue = pearsonr(x_data[column],y_data)\n",
    "        if pvalue < significance_level:\n",
    "            significant_columns.append(column)\n",
    "    return significant_columns"
   ]
  },
  {
   "cell_type": "markdown",
   "metadata": {},
   "source": [
    "2. The second function checks the correlation coefficient of each variable against price using 'pearsonr' function and comparing the coefficient to decide if it is significant or not. We decided to use this function because it recommended us to use three columns instead (coefficient > 0.8) and gave us a better fit. "
   ]
  },
  {
   "cell_type": "code",
   "execution_count": 12,
   "metadata": {},
   "outputs": [],
   "source": [
    "def check_correlation_coefficients(x_data, y_data, minimum_ratio):\n",
    "    significant_columns = []\n",
    "    for column in x_data:\n",
    "        coeff, pvalue = pearsonr(x_data[column],y_data)\n",
    "        if coeff > minimum_ratio:\n",
    "            significant_columns.append(column)\n",
    "    return significant_columns"
   ]
  },
  {
   "cell_type": "markdown",
   "metadata": {},
   "source": [
    "We had to create the independent variable dataframe (x_data), which includes all numeric columns, except for 'price'. We also created the dependent variable dataframe (y_data), which includes 'price' only. \n",
    "\n",
    "After that we proceeded to check the correlation coefficients and choose which columns would be used for our model, which are 'curb-weight', 'engine-size' and 'horsepower'. "
   ]
  },
  {
   "cell_type": "code",
   "execution_count": 13,
   "metadata": {},
   "outputs": [
    {
     "data": {
      "text/plain": [
       "Index(['curb-weight', 'engine-size', 'horsepower'], dtype='object')"
      ]
     },
     "execution_count": 13,
     "metadata": {},
     "output_type": "execute_result"
    }
   ],
   "source": [
    "x_data = numeric_columns_clean.iloc[:,:-1]\n",
    "y_data = numeric_columns_clean.iloc[:,-1]\n",
    "\n",
    "#significant_columns = check_significance_levels(x_data,y_data,0.05)\n",
    "significant_columns = check_correlation_coefficients(x_data,y_data,0.8)\n",
    "\n",
    "x_data = x_data[significant_columns]\n",
    "x_data.columns"
   ]
  },
  {
   "cell_type": "markdown",
   "metadata": {},
   "source": [
    "Now that we have 'x_data' and 'y_data', we should divide both dataframes into training and testing data. To do this, we create a random selection of 80% of the rows for the training sets and the remaining rows are used for the testing set. "
   ]
  },
  {
   "cell_type": "code",
   "execution_count": 14,
   "metadata": {},
   "outputs": [],
   "source": [
    "row_selection = np.random.rand(len(numeric_columns_clean)) < 0.8\n",
    "\n",
    "x_train = x_data[row_selection]\n",
    "y_train = y_data[row_selection]\n",
    "\n",
    "x_test = x_data[~row_selection]\n",
    "y_test = y_data[~row_selection]"
   ]
  },
  {
   "cell_type": "markdown",
   "metadata": {},
   "source": [
    "---------"
   ]
  },
  {
   "cell_type": "markdown",
   "metadata": {},
   "source": [
    "The following function predicts the values for 'y', given the 'x' data and the coefficients for each independent variable. It loops and calculates individual values and create a prediction array. We define the function here, because we will be using it several times with different learning algorithms. "
   ]
  },
  {
   "cell_type": "code",
   "execution_count": 15,
   "metadata": {},
   "outputs": [],
   "source": [
    "def predict_multiple_linear_regression(x_data, coefficients):\n",
    "    y_predicted=[]\n",
    "    prediction=coefficients[0][0]\n",
    "    \n",
    "    for i in range(len(x_data)):\n",
    "        for n in range(len(x_data.columns)):\n",
    "            prediction += coefficients[n+1][0]*x_data.iloc[i,n]\n",
    "        y_predicted.append(prediction)\n",
    "        prediction=coefficients[0][0]\n",
    "    \n",
    "    return np.array(y_predicted)"
   ]
  },
  {
   "cell_type": "markdown",
   "metadata": {},
   "source": [
    "Here we create three functions, one to calculate the average residual, another to calculate the RMSE and the last one to plot the residuals. We put these functions here, because we will be using them several times in the future."
   ]
  },
  {
   "cell_type": "code",
   "execution_count": 16,
   "metadata": {},
   "outputs": [],
   "source": [
    "def calculate_average_residual(y,y_predicted):\n",
    "    return np.mean(y-y_predicted)\n",
    "\n",
    "def calculate_rmse(y,y_predicted):\n",
    "    return np.sqrt(np.sum((y-y_predicted)**2)/y.size)\n",
    "\n",
    "def plot_residuals(y,y_predicted):\n",
    "    residual=y-y_predicted\n",
    "    plt.scatter(y,residual,color='c')\n",
    "    plt.plot(y,np.zeros(len(y),),color='r')"
   ]
  },
  {
   "cell_type": "markdown",
   "metadata": {},
   "source": [
    "#### A. Generic Learning Function"
   ]
  },
  {
   "cell_type": "markdown",
   "metadata": {},
   "source": [
    "To fit our model, we first created a generic function that creates the matrices (Xt_X and Xt_y) following the system of linear equations. Then, we use Numpy's built-in function to solve the linear algebra equations, given the matrices mentioned before. This function is used as a base for comparing the other functions and their results."
   ]
  },
  {
   "cell_type": "code",
   "execution_count": 17,
   "metadata": {},
   "outputs": [],
   "source": [
    "def learn_linreg_normeq(x_train,y_train):\n",
    "    X = np.ones([len(x_train),1])\n",
    "    \n",
    "    for i in range(len(x_train.columns)):\n",
    "        x = np.array(x_train.iloc[:,i]).reshape(len(x_train),1)\n",
    "        X = np.concatenate((X,x),axis=1)\n",
    "    \n",
    "    y = np.array(y_train).reshape(len(y_train),1)\n",
    "    X_transpose = X.T\n",
    "    Xt_X = np.matmul(X_transpose,X)\n",
    "    Xt_y = np.matmul(X_transpose,y)\n",
    "    \n",
    "    coefficients = np.linalg.solve(Xt_X, Xt_y)\n",
    "    \n",
    "    return coefficients"
   ]
  },
  {
   "cell_type": "markdown",
   "metadata": {},
   "source": [
    "Here we fit our model, predict with it, calculate the average residual, as well as the RMSE, and then plot the residuals to see how well our model performed. "
   ]
  },
  {
   "cell_type": "code",
   "execution_count": 18,
   "metadata": {},
   "outputs": [
    {
     "name": "stdout",
     "output_type": "stream",
     "text": [
      "Average Residual: -391.46104165930046\n",
      "RMSE: 3003.713297608102\n"
     ]
    },
    {
     "data": {
      "image/png": "[encoded data removed]",
      "text/plain": [
       "<Figure size 432x288 with 1 Axes>"
      ]
     },
     "metadata": {
      "needs_background": "light"
     },
     "output_type": "display_data"
    }
   ],
   "source": [
    "coefficients_generic = learn_linreg_normeq(x_train,y_train)\n",
    "\n",
    "y_predicted_generic = predict_multiple_linear_regression(x_test,coefficients_generic)\n",
    "\n",
    "avg_res_generic = calculate_average_residual(y_test,y_predicted_generic)\n",
    "\n",
    "rmse_generic = calculate_rmse(y_test,y_predicted_generic)\n",
    "\n",
    "plot_residuals(y_test,y_predicted_generic)\n",
    "\n",
    "print('Average Residual: {}\\nRMSE: {}'.format(avg_res_generic,rmse_generic))"
   ]
  },
  {
   "cell_type": "markdown",
   "metadata": {},
   "source": [
    "#### B. Gaussian Elimination Learning Function"
   ]
  },
  {
   "cell_type": "markdown",
   "metadata": {},
   "source": [
    "The following function implements Gaussian Elimination to calculate the coefficients:"
   ]
  },
  {
   "cell_type": "code",
   "execution_count": 19,
   "metadata": {
    "scrolled": true
   },
   "outputs": [],
   "source": [
    "def gaussian_elimination(A,b):\n",
    "    n = len(A)\n",
    "    \n",
    "    for i in range(0, n):\n",
    "        maximum_element = abs(A[i][i])\n",
    "        maximum_row = i\n",
    "        for k in range(i+1, n):\n",
    "            if A[k][i] > maximum_element:\n",
    "                maximum_element = A[k][i]\n",
    "                maximum_row = k\n",
    "        \n",
    "        for k in range(i, n):\n",
    "            temp = A[maximum_row][k]\n",
    "            A[maximum_row][k] = A[i][k]\n",
    "            A[i][k] = temp\n",
    "            \n",
    "        for k in range(i+1, n):\n",
    "            c = -A[k][i]/A[i][i]\n",
    "            for j in range(i, n):\n",
    "                if i == j:\n",
    "                    A[k][j] = 0\n",
    "                else:\n",
    "                    A[k][j] += c*A[i][j]\n",
    "                    \n",
    "    for i in range(n - 1, -1, -1):\n",
    "        for j in range(i + 1, n):\n",
    "            temp = A[i][j]\n",
    "            for k in range(len(b[0])):\n",
    "                b[i][k] -= temp*b[j][k]\n",
    "        temp = 1/A[i][i]\n",
    "        for j in range(len(b[0])):\n",
    "            b[i][j] *= temp\n",
    "    \n",
    "    return b\n",
    "\n",
    "#Code based on: https://martin-thoma.com/images/2013/05/Gaussian-elimination.png"
   ]
  },
  {
   "cell_type": "markdown",
   "metadata": {},
   "source": [
    "This function fits our data using the Gaussian Elimination algorithm to calculate the coefficients."
   ]
  },
  {
   "cell_type": "code",
   "execution_count": 20,
   "metadata": {},
   "outputs": [],
   "source": [
    "def learn_linreg_normeq_gaussian_elim(x_train,y_train):\n",
    "    X = np.ones([len(x_train),1])\n",
    "    \n",
    "    for i in range(len(x_train.columns)):\n",
    "        x = np.array(x_train.iloc[:,i]).reshape(len(x_train),1)\n",
    "        X = np.concatenate((X,x),axis=1)\n",
    "    \n",
    "    y = np.array(y_train).reshape(len(y_train),1)\n",
    "    X_transpose = X.T\n",
    "    Xt_X = np.matmul(X_transpose,X)\n",
    "    Xt_y = np.matmul(X_transpose,y)\n",
    "    \n",
    "    coefficients = gaussian_elimination(Xt_X,Xt_y)\n",
    "    \n",
    "    return coefficients"
   ]
  },
  {
   "cell_type": "markdown",
   "metadata": {},
   "source": [
    "Here we fit our model, predict with it, calculate the average residual, as well as the RMSE, and then plot the residuals to see how well our model performed. "
   ]
  },
  {
   "cell_type": "code",
   "execution_count": 21,
   "metadata": {},
   "outputs": [
    {
     "name": "stdout",
     "output_type": "stream",
     "text": [
      "Average Residual: -1164300.1716300491\n",
      "RMSE: 7288418.304292335\n"
     ]
    },
    {
     "data": {
      "image/png": "[encoded data removed]",
      "text/plain": [
       "<Figure size 432x288 with 1 Axes>"
      ]
     },
     "metadata": {
      "needs_background": "light"
     },
     "output_type": "display_data"
    }
   ],
   "source": [
    "coefficients_gaussian = learn_linreg_normeq_gaussian_elim(x_train,y_train)\n",
    "\n",
    "y_predicted_gaussian = predict_multiple_linear_regression(x_test,coefficients_gaussian)\n",
    "\n",
    "avg_res_gaussian = calculate_average_residual(y_test,y_predicted_gaussian)\n",
    "\n",
    "rmse_gaussian = calculate_rmse(y_test,y_predicted_gaussian)\n",
    "\n",
    "plot_residuals(y_test,y_predicted_gaussian)\n",
    "\n",
    "print('Average Residual: {}\\nRMSE: {}'.format(avg_res_gaussian,rmse_gaussian))"
   ]
  },
  {
   "cell_type": "markdown",
   "metadata": {},
   "source": [
    "#### C. QR Decomposition Learning Function"
   ]
  },
  {
   "cell_type": "markdown",
   "metadata": {},
   "source": [
    "The following function implements QR Decomposition to calculate the coefficients:"
   ]
  },
  {
   "cell_type": "code",
   "execution_count": 22,
   "metadata": {},
   "outputs": [],
   "source": [
    "def qr_decomposition(A,b):\n",
    "    n = len(A)\n",
    "    R = np.zeros((n,n))\n",
    "    Q = np.zeros((n,n))\n",
    "    \n",
    "    for k in range(0,n):\n",
    "        s = 0\n",
    "        for j in range(0,n):\n",
    "            s = s + (A[j][k])**2\n",
    "            R[k][k] = np.sqrt(s)\n",
    "        for j in range(0,n):\n",
    "            Q[j][k] = A[j][k]/R[k][k]\n",
    "        for i in range(k+1,n):\n",
    "            s = 0\n",
    "            for j in range(0,n):\n",
    "                s = s + A[j][i]*Q[j][k]\n",
    "            R[k][i] = s\n",
    "            for j in range(0,n):\n",
    "                A[j][i] = A[j][i] - R[k][i]*Q[j][k]\n",
    "    \n",
    "    p = np.dot(Q.T, b)\n",
    "    coefficients = np.dot(np.linalg.inv(R), p)\n",
    "    \n",
    "    return coefficients\n",
    "\n",
    "#Code based on: http://people.inf.ethz.ch/gander/papers/qrneu.pdf"
   ]
  },
  {
   "cell_type": "markdown",
   "metadata": {},
   "source": [
    "This function fits our data using the QR Decomposition algorithm to calculate the coefficients."
   ]
  },
  {
   "cell_type": "code",
   "execution_count": 23,
   "metadata": {},
   "outputs": [],
   "source": [
    "def learn_linreg_normeq_qr_decomposition(x_train,y_train):\n",
    "    X = np.ones([len(x_train),1])\n",
    "    \n",
    "    for i in range(len(x_train.columns)):\n",
    "        x = np.array(x_train.iloc[:,i]).reshape(len(x_train),1)\n",
    "        X = np.concatenate((X,x),axis=1)\n",
    "    \n",
    "    y = np.array(y_train).reshape(len(y_train),1)\n",
    "    X_transpose = X.T\n",
    "    Xt_X = np.matmul(X_transpose,X)\n",
    "    Xt_y = np.matmul(X_transpose,y)\n",
    "    \n",
    "    coefficients = qr_decomposition(Xt_X,Xt_y)\n",
    "    \n",
    "    return coefficients"
   ]
  },
  {
   "cell_type": "markdown",
   "metadata": {},
   "source": [
    "Here we fit our model, predict with it, calculate the average residual, as well as the RMSE, and then plot the residuals to see how well our model performed. "
   ]
  },
  {
   "cell_type": "code",
   "execution_count": 24,
   "metadata": {},
   "outputs": [
    {
     "name": "stdout",
     "output_type": "stream",
     "text": [
      "Average Residual: -391.46040035510816\n",
      "RMSE: 3003.713809383058\n"
     ]
    },
    {
     "data": {
      "image/png": "[encoded data removed]",
      "text/plain": [
       "<Figure size 432x288 with 1 Axes>"
      ]
     },
     "metadata": {
      "needs_background": "light"
     },
     "output_type": "display_data"
    }
   ],
   "source": [
    "coefficients_qr = learn_linreg_normeq_qr_decomposition(x_train,y_train)\n",
    "\n",
    "y_predicted_qr = predict_multiple_linear_regression(x_test,coefficients_qr)\n",
    "\n",
    "avg_res_qr = calculate_average_residual(y_test,y_predicted_qr)\n",
    "\n",
    "rmse_qr = calculate_rmse(y_test,y_predicted_qr)\n",
    "\n",
    "plot_residuals(y_test,y_predicted_qr)\n",
    "\n",
    "print('Average Residual: {}\\nRMSE: {}'.format(avg_res_qr,rmse_qr))"
   ]
  },
  {
   "cell_type": "markdown",
   "metadata": {},
   "source": [
    "------------"
   ]
  },
  {
   "cell_type": "markdown",
   "metadata": {},
   "source": [
    "This section is a test to check how well our models performed against the SciKit Machine Learning library. We create, fit and predict our model; then we check the average residual as well as the RMSE, like we did with our models, and then plot the residuals. "
   ]
  },
  {
   "cell_type": "code",
   "execution_count": 25,
   "metadata": {},
   "outputs": [
    {
     "name": "stdout",
     "output_type": "stream",
     "text": [
      "Average Residual: -391.4610416592974\n",
      "RMSE: 3003.7132976081007\n"
     ]
    },
    {
     "data": {
      "image/png": "[encoded data removed]",
      "text/plain": [
       "<Figure size 432x288 with 1 Axes>"
      ]
     },
     "metadata": {
      "needs_background": "light"
     },
     "output_type": "display_data"
    }
   ],
   "source": [
    "from sklearn.linear_model import LinearRegression\n",
    "\n",
    "model = LinearRegression()\n",
    "model.fit(x_train,y_train)\n",
    "scikit_predictions = model.predict(x_test)\n",
    "\n",
    "avg_res_sk = calculate_average_residual(y_test,scikit_predictions)\n",
    "\n",
    "rmse_sk = calculate_rmse(y_test,scikit_predictions)\n",
    "\n",
    "plot_residuals(y_test,scikit_predictions)\n",
    "\n",
    "print('Average Residual: {}\\nRMSE: {}'.format(avg_res_sk,rmse_sk))"
   ]
  }
 ],
 "metadata": {
  "kernelspec": {
   "display_name": "Python 3",
   "language": "python",
   "name": "python3"
  },
  "language_info": {
   "codemirror_mode": {
    "name": "ipython",
    "version": 3
   },
   "file_extension": ".py",
   "mimetype": "text/x-python",
   "name": "python",
   "nbconvert_exporter": "python",
   "pygments_lexer": "ipython3",
   "version": "3.7.3"
  }
 },
 "nbformat": 4,
 "nbformat_minor": 2
}
