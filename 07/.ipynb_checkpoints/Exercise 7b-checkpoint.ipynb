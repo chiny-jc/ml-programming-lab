{
 "cells": [
  {
   "cell_type": "markdown",
   "metadata": {},
   "source": [
    "Import all libraries."
   ]
  },
  {
   "cell_type": "code",
   "execution_count": 1,
   "metadata": {},
   "outputs": [],
   "source": [
    "import numpy as np\n",
    "import pandas as pd\n",
    "import matplotlib.pyplot as plt\n",
    "import torch\n",
    "from torch.utils.data import Dataset,DataLoader\n",
    "\n",
    "from sklearn.model_selection import train_test_split"
   ]
  },
  {
   "cell_type": "markdown",
   "metadata": {},
   "source": [
    "Read data file and split into 'X' and 'y' training and testing set. "
   ]
  },
  {
   "cell_type": "code",
   "execution_count": 2,
   "metadata": {},
   "outputs": [],
   "source": [
    "wine_data = pd.read_csv('winequality-white.csv',sep=';')\n",
    "\n",
    "X = wine_data.drop('quality',axis=1)\n",
    "y = wine_data['quality']\n",
    "\n",
    "X_train_temp,X_test_temp,y_train_temp,y_test_temp = train_test_split(X,y,test_size=0.2,\n",
    "                                                                     random_state=42)\n",
    "\n",
    "y_train_temp = y_train_temp.to_frame()\n",
    "y_test_temp = y_test_temp.to_frame()"
   ]
  },
  {
   "cell_type": "markdown",
   "metadata": {},
   "source": [
    "Convert dataframe values into torch tensors."
   ]
  },
  {
   "cell_type": "code",
   "execution_count": 3,
   "metadata": {},
   "outputs": [],
   "source": [
    "X_train = torch.FloatTensor(X_train_temp.values)\n",
    "y_train = torch.FloatTensor(y_train_temp.values)\n",
    "X_test = torch.FloatTensor(X_test_temp.values)\n",
    "y_test = torch.FloatTensor(y_test_temp.values)"
   ]
  },
  {
   "cell_type": "markdown",
   "metadata": {},
   "source": [
    "Create the model object according to the specificitations, define the MSELoss criterion and the SGD optimizer. Then we run the NN for 100 epochs and plot the error minimization."
   ]
  },
  {
   "cell_type": "code",
   "execution_count": 4,
   "metadata": {},
   "outputs": [
    {
     "data": {
      "text/plain": [
       "[<matplotlib.lines.Line2D at 0x20d8952f4a8>]"
      ]
     },
     "execution_count": 4,
     "metadata": {},
     "output_type": "execute_result"
    },
    {
     "data": {
      "image/png": "[encoded data removed]",
      "text/plain": [
       "<Figure size 432x288 with 1 Axes>"
      ]
     },
     "metadata": {
      "needs_background": "light"
     },
     "output_type": "display_data"
    }
   ],
   "source": [
    "class LinearRegression(torch.nn.Module):\n",
    "    \n",
    "    def __init__(self):\n",
    "        super().__init__()\n",
    "        self.fc1 = torch.nn.Linear(11, 11)\n",
    "        self.fc2 = torch.nn.Linear(11, 11)\n",
    "        self.fc3 = torch.nn.Linear(11, 11)\n",
    "        self.output = torch.nn.Linear(11,1)\n",
    "        \n",
    "    def forward(self,x):\n",
    "        out = self.fc1(x)\n",
    "        out = self.fc2(out)\n",
    "        out = self.fc3(out)\n",
    "        y_pred = self.output(out)\n",
    "        return y_pred\n",
    "    \n",
    "model = LinearRegression()\n",
    "criterion = torch.nn.MSELoss()\n",
    "optimizer = torch.optim.SGD(model.parameters(),lr=0.00001)\n",
    "\n",
    "error = []\n",
    "\n",
    "for epoch in range(100):\n",
    "    y_pred = model(X_train)\n",
    "    loss = criterion(y_pred,y_train)\n",
    "    error.append(loss)\n",
    "    optimizer.zero_grad()\n",
    "    loss.backward()\n",
    "    optimizer.step()\n",
    "    \n",
    "plt.plot(error)"
   ]
  },
  {
   "cell_type": "markdown",
   "metadata": {},
   "source": [
    "Create the dataset object for the white wine data file with a function to split into training and testing set. "
   ]
  },
  {
   "cell_type": "code",
   "execution_count": 5,
   "metadata": {},
   "outputs": [],
   "source": [
    "class White_Wine_Dataset(Dataset):\n",
    "    \n",
    "    def __init__(self, csv_file):\n",
    "        data = pd.read_csv(csv_file, sep=';')\n",
    "        self.X = data.iloc[:,:-1]\n",
    "        self.Y = data.iloc[:,-1]\n",
    "        \n",
    "    def __len__(self):\n",
    "        return len(self.X)\n",
    "    \n",
    "    def __getitem__(self, idx):\n",
    "        item = self.X[idx]\n",
    "        label = self.Y[idx]\n",
    "        return (item, label)\n",
    "    \n",
    "    def train_test_split(self):\n",
    "        X_train,X_test,y_train,y_test = train_test_split(self.X,self.Y,test_size=0.2,\n",
    "                                                         random_state=42)\n",
    "        train = pd.concat((X_train,y_train),axis=1)\n",
    "        test = pd.concat((X_test,y_test),axis=1)\n",
    "        \n",
    "        train_dataset = torch.FloatTensor(train.values)\n",
    "        test_dataset = torch.FloatTensor(test.values)\n",
    "        \n",
    "        return (train_dataset,test_dataset)"
   ]
  },
  {
   "cell_type": "markdown",
   "metadata": {},
   "source": [
    "Create a new white wine object and split the data into train and test dataset; then print the train set to see how it looks."
   ]
  },
  {
   "cell_type": "code",
   "execution_count": 6,
   "metadata": {},
   "outputs": [
    {
     "name": "stdout",
     "output_type": "stream",
     "text": [
      "tensor([[ 7.3000,  0.1700,  0.3600,  ...,  0.4100, 12.4000,  6.0000],\n",
      "        [ 6.3000,  0.2500,  0.4400,  ...,  0.5200,  9.5000,  5.0000],\n",
      "        [ 5.6000,  0.3200,  0.3300,  ...,  0.4900, 11.1000,  6.0000],\n",
      "        ...,\n",
      "        [ 7.6000,  0.2700,  0.5200,  ...,  0.5300, 11.4000,  6.0000],\n",
      "        [ 6.3000,  0.2400,  0.2900,  ...,  0.3800, 10.6000,  6.0000],\n",
      "        [ 8.1000,  0.2700,  0.3500,  ...,  0.6300, 10.4000,  8.0000]])\n"
     ]
    }
   ],
   "source": [
    "wine_data = White_Wine_Dataset('winequality-white.csv')\n",
    "\n",
    "train_dataset,test_dataset = wine_data.train_test_split()\n",
    "print(train_dataset)"
   ]
  },
  {
   "cell_type": "markdown",
   "metadata": {},
   "source": [
    "Create two 'DataLoader' objects for the train and test set respectively."
   ]
  },
  {
   "cell_type": "code",
   "execution_count": 7,
   "metadata": {},
   "outputs": [],
   "source": [
    "batch_size = 1;\n",
    "\n",
    "train_loader = DataLoader(dataset=train_dataset,batch_size=batch_size,shuffle=True);\n",
    "test_loader = DataLoader(dataset=test_dataset,batch_size=batch_size,shuffle=True);"
   ]
  },
  {
   "cell_type": "markdown",
   "metadata": {},
   "source": [
    "Run the NN for 10 epochs, iterating over the data from the 'train_loader' previously created and then plot the error minimization."
   ]
  },
  {
   "cell_type": "code",
   "execution_count": 18,
   "metadata": {},
   "outputs": [
    {
     "data": {
      "text/plain": [
       "[<matplotlib.lines.Line2D at 0x20d95a6d550>]"
      ]
     },
     "execution_count": 18,
     "metadata": {},
     "output_type": "execute_result"
    },
    {
     "data": {
      "image/png": "[encoded data removed]",
      "text/plain": [
       "<Figure size 432x288 with 1 Axes>"
      ]
     },
     "metadata": {
      "needs_background": "light"
     },
     "output_type": "display_data"
    }
   ],
   "source": [
    "model = LinearRegression()\n",
    "criterion = torch.nn.MSELoss()\n",
    "optimizer = torch.optim.SGD(model.parameters(),lr=0.00001)\n",
    "\n",
    "error = []\n",
    "\n",
    "for epoch in range(10):\n",
    "    for i,tensor in enumerate(train_loader):\n",
    "        X_train = tensor[0][:-1]\n",
    "        y_train = tensor[0][-1]\n",
    "        \n",
    "        y_pred = model(X_train)\n",
    "        loss = criterion(y_pred,y_train)\n",
    "        error.append(loss)\n",
    "        optimizer.zero_grad()\n",
    "        loss.backward()\n",
    "        optimizer.step()\n",
    "    \n",
    "plt.plot(error)"
   ]
  },
  {
   "cell_type": "markdown",
   "metadata": {},
   "source": [
    "**References:**\n",
    "\n",
    "https://medium.com/ml2vec/intro-to-pytorch-with-image-classification-on-a-fashion-clothes-dataset-e589682df0c5\n",
    "\n",
    "\n",
    "https://www.geeksforgeeks.org/linear-regression-using-pytorch/\n",
    "\n",
    "\n",
    "https://www.youtube.com/watch?v=Zy6CIMirxKM"
   ]
  }
 ],
 "metadata": {
  "kernelspec": {
   "display_name": "Python 3",
   "language": "python",
   "name": "python3"
  },
  "language_info": {
   "codemirror_mode": {
    "name": "ipython",
    "version": 3
   },
   "file_extension": ".py",
   "mimetype": "text/x-python",
   "name": "python",
   "nbconvert_exporter": "python",
   "pygments_lexer": "ipython3",
   "version": "3.7.3"
  }
 },
 "nbformat": 4,
 "nbformat_minor": 2
}
