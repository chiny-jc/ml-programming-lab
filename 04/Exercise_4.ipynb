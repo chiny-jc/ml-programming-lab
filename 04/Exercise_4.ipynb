{
 "cells": [
  {
   "cell_type": "markdown",
   "metadata": {},
   "source": [
    "#### Joshua Campos - Nr. 304738\n",
    "### Lab Course Machine Learning\n",
    "## Exercise 4"
   ]
  },
  {
   "cell_type": "markdown",
   "metadata": {},
   "source": [
    "---------"
   ]
  },
  {
   "cell_type": "markdown",
   "metadata": {},
   "source": [
    "We import the necessary libraries."
   ]
  },
  {
   "cell_type": "code",
   "execution_count": 1,
   "metadata": {},
   "outputs": [],
   "source": [
    "import numpy as np\n",
    "import pandas as pd\n",
    "import matplotlib.pyplot as plt"
   ]
  },
  {
   "cell_type": "markdown",
   "metadata": {},
   "source": [
    "We read the data file and define the column names accordingly. Then we use the function .info() on the dataset to learn about it. "
   ]
  },
  {
   "cell_type": "code",
   "execution_count": 2,
   "metadata": {},
   "outputs": [
    {
     "name": "stdout",
     "output_type": "stream",
     "text": [
      "<class 'pandas.core.frame.DataFrame'>\n",
      "RangeIndex: 958 entries, 0 to 957\n",
      "Data columns (total 10 columns):\n",
      "top-left         958 non-null object\n",
      "top-middle       958 non-null object\n",
      "top-right        958 non-null object\n",
      "middle-left      958 non-null object\n",
      "middle-middle    958 non-null object\n",
      "middle-right     958 non-null object\n",
      "bottom-left      958 non-null object\n",
      "bottom-middle    958 non-null object\n",
      "bottom-right     958 non-null object\n",
      "class            958 non-null object\n",
      "dtypes: object(10)\n",
      "memory usage: 74.9+ KB\n"
     ]
    }
   ],
   "source": [
    "columns = ['top-left','top-middle','top-right','middle-left','middle-middle',\\\n",
    "           'middle-right','bottom-left','bottom-middle','bottom-right','class']\n",
    "file_name = 'tic-tac-toe.data'\n",
    "dataset = pd.read_csv(file_name,names=columns)\n",
    "\n",
    "dataset.info()"
   ]
  },
  {
   "cell_type": "markdown",
   "metadata": {},
   "source": [
    "We see that the dataset has only non-numerical columns, so we use Pandas .get_dummies() function to convert all the categorical columns into numerical columns. During this conversion, we dropped the first column to avoid multicollinearity. After that, we use the function .info() again to see how the dataset is now structured. "
   ]
  },
  {
   "cell_type": "code",
   "execution_count": 3,
   "metadata": {},
   "outputs": [
    {
     "name": "stdout",
     "output_type": "stream",
     "text": [
      "<class 'pandas.core.frame.DataFrame'>\n",
      "RangeIndex: 958 entries, 0 to 957\n",
      "Data columns (total 19 columns):\n",
      "top-left_o         958 non-null uint8\n",
      "top-left_x         958 non-null uint8\n",
      "top-middle_o       958 non-null uint8\n",
      "top-middle_x       958 non-null uint8\n",
      "top-right_o        958 non-null uint8\n",
      "top-right_x        958 non-null uint8\n",
      "middle-left_o      958 non-null uint8\n",
      "middle-left_x      958 non-null uint8\n",
      "middle-middle_o    958 non-null uint8\n",
      "middle-middle_x    958 non-null uint8\n",
      "middle-right_o     958 non-null uint8\n",
      "middle-right_x     958 non-null uint8\n",
      "bottom-left_o      958 non-null uint8\n",
      "bottom-left_x      958 non-null uint8\n",
      "bottom-middle_o    958 non-null uint8\n",
      "bottom-middle_x    958 non-null uint8\n",
      "bottom-right_o     958 non-null uint8\n",
      "bottom-right_x     958 non-null uint8\n",
      "class_positive     958 non-null uint8\n",
      "dtypes: uint8(19)\n",
      "memory usage: 17.9 KB\n"
     ]
    }
   ],
   "source": [
    "dataset_numerical = pd.get_dummies(dataset,drop_first=True)\n",
    "dataset_numerical.info()"
   ]
  },
  {
   "cell_type": "markdown",
   "metadata": {},
   "source": [
    "To see if the dataset is unbalanced, we perform a group by on the column that will be used as dependent variable, which in this case is 'class_positive'. We count the instances of each value and we can see that there are 332 negatives and 626 positives. With this small test, we can see that the data is indeed unbalanced. "
   ]
  },
  {
   "cell_type": "code",
   "execution_count": 4,
   "metadata": {},
   "outputs": [
    {
     "data": {
      "text/plain": [
       "class_positive\n",
       "0    332\n",
       "1    626\n",
       "Name: top-left_o, dtype: int64"
      ]
     },
     "execution_count": 4,
     "metadata": {},
     "output_type": "execute_result"
    }
   ],
   "source": [
    "dataset_numerical.groupby('class_positive').count()['top-left_o']"
   ]
  },
  {
   "cell_type": "markdown",
   "metadata": {},
   "source": [
    "**Stratified Sampling:** It is when we divide the data into classes and then perform a random sample selection for each class, instead of doing it on the entire dataset. This method makes sure that every class has the same chance to have an equal participation on the train and test set. For example, if we have a large dataset and a small class and we choose to have an 80% for the train set, the small class may not be even considered into the train set or have a very small participation; but if we divide the data into the classes and then choose an 80% for the train set, an 80% of that small class will be included into the main train set. "
   ]
  },
  {
   "cell_type": "markdown",
   "metadata": {},
   "source": [
    "In the following function, we perform stratified sampling using the column 'class_positive' as the base and then we divide the train and test set for 80% and 20% respectively."
   ]
  },
  {
   "cell_type": "code",
   "execution_count": 5,
   "metadata": {},
   "outputs": [],
   "source": [
    "def perform_stratified_sampling(data,base_column,train_percentage):\n",
    "    train_data = pd.DataFrame()\n",
    "    test_data = pd.DataFrame()\n",
    "    strata = data.groupby(base_column).count().index\n",
    "    row_selection = np.random.rand(len(data)) < train_percentage\n",
    "    for group in strata:\n",
    "        group_set = data[data[base_column] == group]\n",
    "        train_split = data[row_selection]\n",
    "        train_data = train_data.append(train_split)\n",
    "        test_split = data[~row_selection]\n",
    "        test_data = test_data.append(test_split)\n",
    "        break\n",
    "    \n",
    "    return (train_data,test_data)\n",
    "\n",
    "base_column = 'class_positive'\n",
    "train_percentage = 0.8\n",
    "train_data,test_data = perform_stratified_sampling(dataset_numerical,base_column,train_percentage)"
   ]
  },
  {
   "cell_type": "markdown",
   "metadata": {},
   "source": [
    "-----------"
   ]
  },
  {
   "cell_type": "markdown",
   "metadata": {},
   "source": [
    "### Exercise 1: Logistic Regression with Gradient Ascent (10 points)"
   ]
  },
  {
   "cell_type": "markdown",
   "metadata": {},
   "source": [
    "In order to start modeling, we need to split our data into the training sets and testing sets, as well as into our independent and dependent variables. For this exercise, we will be predicting the 'class_positive'. "
   ]
  },
  {
   "cell_type": "code",
   "execution_count": 6,
   "metadata": {},
   "outputs": [],
   "source": [
    "x_train = train_data.drop(base_column,axis=1)\n",
    "y_train = np.array(train_data[base_column]).reshape(len(train_data[base_column]),1)\n",
    "\n",
    "x_test = test_data.drop(base_column,axis=1)\n",
    "y_test = test_data[base_column]"
   ]
  },
  {
   "cell_type": "markdown",
   "metadata": {},
   "source": [
    "Next, we define the functions that we will be using and maximizing. The functions are the sigmoid function, the log loss function and its derivative. "
   ]
  },
  {
   "cell_type": "code",
   "execution_count": 7,
   "metadata": {},
   "outputs": [],
   "source": [
    "sigmoid_func = lambda X,beta: (1/(1+np.e**(-np.dot(X,beta))))\n",
    "loss_func = lambda y,y_hat: np.sum(y*np.log(y_hat)+(1-y)*np.log(1-y_hat))\n",
    "loss_func_deriv = lambda X,y,y_hat: np.dot(X.T,y-y_hat)\n",
    "loss_func_b = lambda X,y,beta: np.sum(np.dot(np.dot(X,beta).T,y)-np.log(1+np.e**np.dot(X,beta)))"
   ]
  },
  {
   "cell_type": "markdown",
   "metadata": {},
   "source": [
    "Here we define the 'stepsize_bolddriver' algorithm and the 'learn_logreg_ga'. After defining our functions, we run our learning algorithm for 500 iterations using the bold driver algorithm to calculate the best step size, using 1.1 as increase factor and 0.5 as decrease factor. "
   ]
  },
  {
   "cell_type": "code",
   "execution_count": 8,
   "metadata": {},
   "outputs": [
    {
     "name": "stderr",
     "output_type": "stream",
     "text": [
      "D:\\Users\\Joshua\\Anaconda3\\lib\\site-packages\\ipykernel_launcher.py:4: RuntimeWarning: overflow encountered in power\n",
      "  after removing the cwd from sys.path.\n"
     ]
    },
    {
     "data": {
      "image/png": "[encoded data removed]",
      "text/plain": [
       "<Figure size 864x360 with 2 Axes>"
      ]
     },
     "metadata": {
      "needs_background": "light"
     },
     "output_type": "display_data"
    }
   ],
   "source": [
    "def stepsize_bolddriver(x,y,beta,step_size,increase_factor,decrease_factor):\n",
    "    new_step_size = step_size*increase_factor\n",
    "    gradient = np.sum(loss_func_deriv(x,y,beta.T))\n",
    "    while np.sum(loss_func_b(x,y,beta) - loss_func_b(x,y,beta+new_step_size*gradient)) >= 0:\n",
    "        new_step_size = new_step_size*decrease_factor\n",
    "    return new_step_size\n",
    "\n",
    "def learn_logreg_ga(x_train,y_train,step_size,max_iterations,increase_factor,decrease_factor):\n",
    "    sigmoid_diff = []\n",
    "    log_loss = []\n",
    "    X = x_train\n",
    "    y = y_train\n",
    "    beta = np.zeros((X.shape[1],1))\n",
    "    beta_old = beta\n",
    "    y_hat = sigmoid_func(X,beta_old)\n",
    "    sigmoid_old = np.sum(y_hat)\n",
    "    for t in range(max_iterations):\n",
    "        step_size = stepsize_bolddriver(X,y,beta_old,step_size,increase_factor,decrease_factor)\n",
    "        gradient = loss_func_deriv(X,y,y_hat)\n",
    "        beta_new = beta_old + step_size*gradient\n",
    "        y_hat = sigmoid_func(X,beta_new)\n",
    "        sigmoid_new = np.sum(y_hat)\n",
    "        sigmoid_diff.append(abs(sigmoid_old-sigmoid_new))\n",
    "        loss = loss_func(y,y_hat)\n",
    "        log_loss.append(loss)\n",
    "        beta_old = beta_new\n",
    "        sigmoid_old = sigmoid_new\n",
    "    return (beta_new,sigmoid_diff,log_loss)\n",
    "\n",
    "step_size = 1\n",
    "max_iterations = 100\n",
    "increase_factor = 1.1\n",
    "decrease_factor = 0.5\n",
    "\n",
    "coefficients,sigmoid_diff,log_loss = learn_logreg_ga(x_train,y_train,step_size,max_iterations,increase_factor,decrease_factor)\n",
    "\n",
    "plt.figure(figsize=[12,5])\n",
    "\n",
    "plt.subplot(1,2,1)\n",
    "plt.plot(sigmoid_diff)\n",
    "plt.title('Learning Rate')\n",
    "plt.xlabel('Iterations')\n",
    "\n",
    "plt.subplot(1,2,2)\n",
    "plt.plot(log_loss)\n",
    "plt.title('Error Rate')\n",
    "plt.xlabel('Iterations')\n",
    "\n",
    "plt.tight_layout()"
   ]
  },
  {
   "cell_type": "markdown",
   "metadata": {},
   "source": [
    "In the graphs above, we can see that the Gradient Ascent algorithm converged really quickly, but the error rate didn't decrease to zero as quickly. We can see how the learning rate drops to zero almost immediately, while the error rate starts negatively and then starts to increase to get close to zero. This means that both the learning rate and error rate end up at zero."
   ]
  },
  {
   "cell_type": "markdown",
   "metadata": {},
   "source": [
    "--------------"
   ]
  },
  {
   "cell_type": "markdown",
   "metadata": {},
   "source": [
    "### Exercise 2: Implement Newton Algorithm (Learning Rate) (10 Points)"
   ]
  },
  {
   "cell_type": "markdown",
   "metadata": {},
   "source": [
    "Here, we define the 'learn_logreg_newton' function and then we run the algorithm with a step size of 0.1 for 100 iterations. In the algorithm, we calculate the coefficients, the function value difference against the last iteration and the logarithmic loss. "
   ]
  },
  {
   "cell_type": "code",
   "execution_count": 9,
   "metadata": {},
   "outputs": [
    {
     "data": {
      "image/png": "[encoded data removed]",
      "text/plain": [
       "<Figure size 864x360 with 2 Axes>"
      ]
     },
     "metadata": {
      "needs_background": "light"
     },
     "output_type": "display_data"
    }
   ],
   "source": [
    "def learn_logreg_newton(x_train,y_train,learn_rate,max_iterations):\n",
    "    sigmoid_diff = []\n",
    "    log_loss = []\n",
    "    X = x_train\n",
    "    y = y_train\n",
    "    beta_old = np.zeros((X.shape[1],1))\n",
    "    y_hat = sigmoid_func(X,beta_old)\n",
    "    sigmoid_old = np.sum(y_hat)\n",
    "    for t in range(max_iterations):\n",
    "        gradient = loss_func_deriv(X,y,y_hat)\n",
    "        W = y_hat*(1-y_hat)\n",
    "        WX = W*X\n",
    "        hessian_matrix = np.linalg.inv(np.dot(X.T,WX))\n",
    "        beta_new = beta_old + learn_rate*np.dot(hessian_matrix,gradient)\n",
    "        y_hat = sigmoid_func(X,beta_new)\n",
    "        sigmoid_new = np.sum(y_hat)\n",
    "        sigmoid_diff.append(abs(sigmoid_old-sigmoid_new))\n",
    "        loss = loss_func(y,y_hat)\n",
    "        log_loss.append(loss)\n",
    "        beta_old = beta_new\n",
    "        sigmoid_old = sigmoid_new\n",
    "    return (beta_new,sigmoid_diff,log_loss)\n",
    "\n",
    "step_size = 0.1\n",
    "max_iterations = 100\n",
    "coefficients,differences,loss = learn_logreg_newton(x_train,y_train,step_size,max_iterations)\n",
    "\n",
    "plt.figure(figsize=[12,5])\n",
    "\n",
    "plt.subplot(1,2,1)\n",
    "plt.plot(differences)\n",
    "plt.title('Learning Rate')\n",
    "plt.xlabel('Iterations')\n",
    "\n",
    "plt.subplot(1,2,2)\n",
    "plt.plot(loss)\n",
    "plt.title('Error Rate')\n",
    "plt.xlabel('Iterations')\n",
    "\n",
    "plt.tight_layout()"
   ]
  },
  {
   "cell_type": "markdown",
   "metadata": {},
   "source": [
    "In the graphs above, we can see that the Newton Algorithm converged in less than 100 iterations. We can see how the learning rate starts to drop until it gets really close to zero while the error rate starts negatively and then starts to increase to get close to zero. This means that both the learning rate and error rate end up at zero."
   ]
  },
  {
   "cell_type": "markdown",
   "metadata": {},
   "source": [
    "**Final Comment:** By comparing the graphs from both algorithms, we can conclude that the Newton Algorithm did better minimizing the error rate in less than 100 iterations, however the Gradient Ascent Algorithm did better converging in less than 20 iterations."
   ]
  }
 ],
 "metadata": {
  "kernelspec": {
   "display_name": "Python 3",
   "language": "python",
   "name": "python3"
  },
  "language_info": {
   "codemirror_mode": {
    "name": "ipython",
    "version": 3
   },
   "file_extension": ".py",
   "mimetype": "text/x-python",
   "name": "python",
   "nbconvert_exporter": "python",
   "pygments_lexer": "ipython3",
   "version": "3.7.3"
  }
 },
 "nbformat": 4,
 "nbformat_minor": 2
}
